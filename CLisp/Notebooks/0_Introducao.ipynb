{
 "cells": [
  {
   "cell_type": "markdown",
   "metadata": {},
   "source": [
    "# FGV - Escola de Matemática Aplicada\n",
    "## Linguagens de Programação"
   ]
  },
  {
   "cell_type": "markdown",
   "metadata": {},
   "source": [
    "# LISP\n"
   ]
  },
  {
   "cell_type": "markdown",
   "metadata": {},
   "source": [
    "### Introdução\n",
    "Lisp foi inventado no final dos anos 1950 como um formalismo para o raciocínio sobre o uso de certos tipos de expressões lógicas, chamadas equações de recursão, como um modelo de computação. A linguagem foi concebida por John McCarthy e baseia-se em seu artigo \"Funções Recursivas de Expressões Simbólicas e\" Computação por Máquina \"(McCarthy, 1960). Ele chamou essa linguagem de Lisp, \"List Processing\", porque uma de suas idéias-chave era usar uma estrutura de dados simples chamada lista para código e dados."
   ]
  },
  {
   "cell_type": "markdown",
   "metadata": {},
   "source": [
    "Leituras complementares\n",
    "\n",
    "- http://www.gigamonkeys.com/book/introduction-why-lisp.html\n",
    "- http://www.paulgraham.com/rootsoflisp.html\n",
    "- http://www.paulgraham.com/diff.html"
   ]
  },
  {
   "cell_type": "markdown",
   "metadata": {},
   "source": [
    "As aulas serão baseadas no livro Structure and Interpretations of Computer Programs (https://mitpress.mit.edu/sicp/full-text/book/book.html). Vale ressaltar que o livro e as aulas estão em dialetos diferentes de LISP, Racket e Common Lisp, respectivamente.   "
   ]
  },
  {
   "cell_type": "markdown",
   "metadata": {},
   "source": [
    "# Common Lisp\n",
    "\n",
    "### Introdução\n",
    "\n",
    "A linguagem Common Lisp foi desenvolvida como um sucessor padronizado e melhorado do Maclisp, ela procurou unificar, padronizar e estender os recursos desses dialetos MacLisp. É uma linguagem de programação multi-paradigma que permite que você escolha a abordagem eo paradigma de acordo com o seu domínio de aplicação. É conhecido por ser extremamente flexível, com excelente suporte para programação orientada a objetos e capacidades de prototipagem rápida. Ele também possui um sistema de macro extremamente poderoso que permite adaptar o idioma ao aplicativo e um ambiente de tempo de execução flexível que permite a modificação e depuração de aplicativos em execução (excelente para desenvolvimento no lado do servidor e software crítico de longa duração).\n",
    " "
   ]
  },
  {
   "cell_type": "code",
   "execution_count": null,
   "metadata": {},
   "outputs": [],
   "source": []
  },
  {
   "cell_type": "code",
   "execution_count": null,
   "metadata": {},
   "outputs": [],
   "source": []
  }
 ],
 "metadata": {
  "kernelspec": {
   "display_name": "SBCL Lisp",
   "language": "lisp",
   "name": "clisp"
  },
  "language_info": {
   "codemirror_mode": "text/x-common-lisp",
   "mimetype": "text/x-common-lisp",
   "name": "common-lisp",
   "pygments_lexer": "common-lisp",
   "version": "X3J13"
  }
 },
 "nbformat": 4,
 "nbformat_minor": 2
}
