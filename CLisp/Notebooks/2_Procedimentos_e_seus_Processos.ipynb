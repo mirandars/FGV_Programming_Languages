{
 "cells": [
  {
   "cell_type": "markdown",
   "metadata": {},
   "source": [
    "# Capítulo 1\n",
    "## Seção 1.2 - Procedures and the Processes they Generate"
   ]
  },
  {
   "cell_type": "markdown",
   "metadata": {},
   "source": [
    "Uma função é um padrão para a evolução local de um processo computacional. Ela especifica como cada etapa do processo é construída sobre a etapa anterior."
   ]
  },
  {
   "cell_type": "markdown",
   "metadata": {},
   "source": [
    "### Recursão e Iteração Linear\n",
    "\n",
    "Vamos começar pela função fatorial definida por:\n",
    "      \n",
    "                  n! = n.(n-1).(n-2). ... .3.2.1\n",
    "Outra forma de definir fatorial é:\n",
    "\n",
    "                        n! = n. (n-1)!\n",
    "Vamos definir a função fatorial:\n"
   ]
  },
  {
   "cell_type": "code",
   "execution_count": 1,
   "metadata": {},
   "outputs": [
    {
     "data": {
      "text/plain": [
       "FACTORIAL"
      ]
     },
     "execution_count": 1,
     "metadata": {},
     "output_type": "execute_result"
    }
   ],
   "source": [
    "(defun factorial (n)\n",
    "    (if (= 1 n)\n",
    "        1\n",
    "        (* n (factorial (- n 1)))))"
   ]
  },
  {
   "cell_type": "code",
   "execution_count": 2,
   "metadata": {},
   "outputs": [
    {
     "data": {
      "text/plain": [
       "402387260077093773543702433923003985719374864210714632543799910429938512398629020592044208486969404800479988610197196058631666872994808558901323829669944590997424504087073759918823627727188732519779505950995276120874975462497043601418278094646496291056393887437886487337119181045825783647849977012476632889835955735432513185323958463075557409114262417474349347553428646576611667797396668820291207379143853719588249808126867838374559731746136085379534524221586593201928090878297308431392844403281231558611036976801357304216168747609675871348312025478589320767169132448426236131412508780208000261683151027341827977704784635868170164365024153691398281264810213092761244896359928705114964975419909342221566832572080821333186116811553615836546984046708975602900950537616475847728421889679646244945160765353408198901385442487984959953319101723355556602139450399736280750137837615307127761926849034352625200015888535147331611702103968175921510907788019393178114194545257223865541461062892187960223838971476088506276862967146674697562911234082439208160153780889893964518263243671616762179168909779911903754031274622289988005195444414282012187361745992642956581746628302955570299024324153181617210465832036786906117260158783520751516284225540265170483304226143974286933061690897968482590125458327168226458066526769958652682272807075781391858178889652208164348344825993266043367660176999612831860788386150279465955131156552036093988180612138558600301435694527224206344631797460594682573103790084024432438465657245014402821885252470935190620929023136493273497565513958720559654228749774011413346962715422845862377387538230483865688976461927383814900140767310446640259899490222221765904339901886018566526485061799702356193897017860040811889729918311021171229845901641921068884387121855646124960798722908519296819372388642614839657382291123125024186649353143970137428531926649875337218940694281434118520158014123344828015051399694290153483077644569099073152433278288269864602789864321139083506217095002597389863554277196742822248757586765752344220207573630569498825087968928162753848863396909959826280956121450994871701244516461260379029309120889086942028510640182154399457156805941872748998094254742173582401063677404595741785160829230135358081840096996372524230560855903700624271243416909004153690105933983835777939410970027753472000000000000000000000000000000000000000000000000000000000000000000000000000000000000000000000000000000000000000000000000000000000000000000000000000000000000000000000000000000000000000000000000000000000000000000000000000000000000000000000000000000000"
      ]
     },
     "execution_count": 2,
     "metadata": {},
     "output_type": "execute_result"
    }
   ],
   "source": [
    "(factorial 1000)"
   ]
  },
  {
   "cell_type": "markdown",
   "metadata": {},
   "source": [
    "$\\textit{Mas o que aconteceu????}$\n",
    "Ao chamar a função factorial com a variável de entrada 6 o que acontece é: \n",
    "    \n",
    "              (factorial 6)\n",
    "              (* 6 (factorial 5))\n",
    "              (* 6 (* 5 (factorial 4)))\n",
    "              (* 6 (* 5 (* 4 (factorial 3))))\n",
    "              (* 6 (* 5 (* 4 (* 3 (factorial 2))))\n",
    "              (* 6 (* 5 (* 4 (* 3 (* 2 (factorial 1))))))\n",
    "              (* 6 (* 5 (* 4 (* 3 (* 2 1)))))\n",
    "              (* 6 (* 5 (* 4 (* 3 2))))\n",
    "              (* 6 (* 5 (* 4 6)))\n",
    "              (* 6 (* 5 24))\n",
    "              (* 6 120)\n",
    "              720\n",
    "O $\\textbf{método de substituição}$ revela o corpo da expansão seguida pela contração, a expansão ocorre quando o processo cria uma cadeia de operações diferidas (no caso, uma cadeia de multiplicações) e esse tipo de processo é chamado de $\\textbf{processo recursivo}$. A realização desse processo exige que o interpretador acompanhe as operações futuras. No cálculo de n! o comprimento da cadeia de multiplicação cresce linearmente em n (proporcional a n), assim como o número de passos. Esse processo é chamado de $\\textbf{processo recursivo linear}$."
   ]
  },
  {
   "cell_type": "markdown",
   "metadata": {},
   "source": [
    "- Veremos agora outra perspectiva do cálculo de fatorais!\n",
    "\n",
    "Podemos descrever o processo como: \n",
    "\n",
    "$$ \\text{- Multiplique 1 por 2;}\\\\ \n",
    "\\text{- Multiplique o resultado anterior por 3;}\\\\\n",
    "\\text{- Multiplique o resultado anterior por 4;}\\\\\n",
    ".\\\\ \n",
    ".\\\\\n",
    ".\\\\\n",
    "\\text{- Multiplique o resultado anterior por n;}$$\n",
    "\n",
    "Formalmente, mantemos os produtos juntos com um contador que vai de $1$ até $n$, sempre acrescido de $1$.\n",
    "$$\\textit{produto = contador * (produto anterior)} \\\\ \\textit{contador = contador + 1}$$ \n",
    "E estipulamos que $n!$ é o valor do produto quando o contador chega a $n$.\n",
    "\n",
    "Veja a nova função factorial e o que ocorre nela:"
   ]
  },
  {
   "cell_type": "code",
   "execution_count": 4,
   "metadata": {},
   "outputs": [
    {
     "name": "stderr",
     "output_type": "stream",
     "text": [
      "SIMPLE-STYLE-WARNING: \n",
      "  undefined function: FACT-ITER\n"
     ]
    },
    {
     "data": {
      "text/plain": [
       "FACT-ITER"
      ]
     },
     "execution_count": 4,
     "metadata": {},
     "output_type": "execute_result"
    }
   ],
   "source": [
    "(defun factorial_2 (n)\n",
    "    (fact-iter 1 1 n))\n",
    "(defun fact-iter (product counter max-count)\n",
    "    (if (> counter max-count)\n",
    "        product\n",
    "        (fact-iter (* counter product)\n",
    "                   (+ counter 1)\n",
    "                   max-count)))"
   ]
  },
  {
   "cell_type": "code",
   "execution_count": 5,
   "metadata": {},
   "outputs": [
    {
     "data": {
      "text/plain": [
       "720"
      ]
     },
     "execution_count": 5,
     "metadata": {},
     "output_type": "execute_result"
    }
   ],
   "source": [
    "(factorial_2 6)"
   ]
  },
  {
   "cell_type": "markdown",
   "metadata": {},
   "source": [
    "$\\textit{O que aconteceu???}$"
   ]
  },
  {
   "cell_type": "markdown",
   "metadata": {},
   "source": [
    "                    (factorial 6)\n",
    "                    (fact-iter 1 1 6)\n",
    "                    (fact-iter 1 2 6)\n",
    "                    (fact – iter 2 3 6)\n",
    "                    (fact – iter 6 4 6)\n",
    "                    (fact – iter 24 5 6)\n",
    "                    (fact – iter 120 6 6)\n",
    "                    (fact – iter 720 7 6)\n",
    "Podemos redefinir factorial_2 como uma estrutura de bloco, como vimos no notebook passado, para \"esconder\" o fact-iter. Ficaria assim:"
   ]
  },
  {
   "cell_type": "code",
   "execution_count": 6,
   "metadata": {},
   "outputs": [
    {
     "data": {
      "text/plain": [
       "FACTORIAL_2-NEW"
      ]
     },
     "execution_count": 6,
     "metadata": {},
     "output_type": "execute_result"
    }
   ],
   "source": [
    "(defun factorial_2-new (n)\n",
    "    (defun iter (product counter)\n",
    "        (if (> counter n)\n",
    "            product\n",
    "            (iter (* counter product) (+ counter 1))))\n",
    "    (iter 1 1))"
   ]
  },
  {
   "cell_type": "code",
   "execution_count": 7,
   "metadata": {},
   "outputs": [
    {
     "data": {
      "text/plain": [
       "120"
      ]
     },
     "execution_count": 7,
     "metadata": {},
     "output_type": "execute_result"
    }
   ],
   "source": [
    "(factorial_2-new 5)"
   ]
  },
  {
   "cell_type": "markdown",
   "metadata": {},
   "source": [
    "Nessa segunda versão de fatorial o processo não se expande e contrai, para cada valor de $n$ só precisamos saber o valor atualizado do $\\textit{product}$, do  $\\textit{counter}$ e do  $\\textit{max-count}$. Chamamos o processo de $\\textbf{processo iterativo}$. Em geral, um processo iterativo é aquele cujo estado pode ser resumido por um estado numerado de variáveis, juntamente com uma regra que descreve como as variáveis de estado devem ser atualizadas à medida que o processo se move de um estado para outro e um teste final opcional que especifica as condições em que o processo deve terminar. Na computação de $n!$, o número de etapas cresce linearmente com n. Chamamos de $\\textbf{processo iterativo linear}$."
   ]
  },
  {
   "cell_type": "markdown",
   "metadata": {},
   "source": [
    "Vejamos o contraste entre esses dois processos:"
   ]
  },
  {
   "cell_type": "markdown",
   "metadata": {},
   "source": [
    "No caso $\\textit{iterativo}$, as variáveis do programa fornecem uma descrição completa do estado do processo em qualquer ponto. Parando o cálculo entre etapas quaisquer, tudo o que precisamos fazer para retomar a computação é fornecer ao interpretador os valores das três variáveis do programa. Não é assim com o processo  $\\textit{recursivo}$, neste caso, há informações adicionais \"ocultas\", mantidas pelo interpretador e não contidas nas variáveis do programa, o que indica \"onde o processo está\" na negociação da cadeia de operações diferidas."
   ]
  },
  {
   "cell_type": "markdown",
   "metadata": {},
   "source": [
    "$\\textbf{ATENÇÃO!}$ Devemos ter cuidado para não confundir a noção de um processo recursivo com a de procedimento recursivo. Quando descrevemos um procedimento como recursivo, estamos nos referindo ao fato sintático de que a definição do procedimento se refere (direta ou indiretamente) ao próprio procedimento. Mas quando descrevemos um processo como seguindo um argumento que é, por exemplo, linearmente recursivo, estamos falando sobre como o processo evolui, não sobre a sintaxe de como um procedimento é tratado."
   ]
  },
  {
   "cell_type": "markdown",
   "metadata": {},
   "source": [
    "### Árvore de Recursão"
   ]
  },
  {
   "cell_type": "markdown",
   "metadata": {},
   "source": [
    "Outro padrão computacional comum é a árvore de recursão. Para ilustrar, vejamos o exemplo da sequência de Fibonacci:\n",
    "\n",
    "$$fib(n) =\\begin{cases}1 &, n = 0\\\\1 & , n=1\\\\fib(n-1)+fib(n-2) & ,n \\geq 2 \\end{cases}$$\n",
    "Como podemos traduzir a função matemática acima para uma função recursiva???"
   ]
  },
  {
   "cell_type": "code",
   "execution_count": 8,
   "metadata": {},
   "outputs": [
    {
     "data": {
      "text/plain": [
       "FIB"
      ]
     },
     "execution_count": 8,
     "metadata": {},
     "output_type": "execute_result"
    }
   ],
   "source": [
    "(defun fib (n)\n",
    "    (cond ((= n 0) 1)\n",
    "        ((= n 1) 1)\n",
    "        ((+ (fib (- n 1)) (fib (- n 2))))))"
   ]
  },
  {
   "cell_type": "code",
   "execution_count": 9,
   "metadata": {},
   "outputs": [
    {
     "data": {
      "text/plain": [
       "1"
      ]
     },
     "execution_count": 9,
     "metadata": {},
     "output_type": "execute_result"
    }
   ],
   "source": [
    "(fib 0)"
   ]
  },
  {
   "cell_type": "code",
   "execution_count": 10,
   "metadata": {},
   "outputs": [
    {
     "data": {
      "text/plain": [
       "1"
      ]
     },
     "execution_count": 10,
     "metadata": {},
     "output_type": "execute_result"
    }
   ],
   "source": [
    "(fib 1)"
   ]
  },
  {
   "cell_type": "code",
   "execution_count": 11,
   "metadata": {},
   "outputs": [
    {
     "data": {
      "text/plain": [
       "2"
      ]
     },
     "execution_count": 11,
     "metadata": {},
     "output_type": "execute_result"
    }
   ],
   "source": [
    "(fib 2)"
   ]
  },
  {
   "cell_type": "code",
   "execution_count": 12,
   "metadata": {},
   "outputs": [
    {
     "data": {
      "text/plain": [
       "8"
      ]
     },
     "execution_count": 12,
     "metadata": {},
     "output_type": "execute_result"
    }
   ],
   "source": [
    "(fib 5)"
   ]
  },
  {
   "cell_type": "code",
   "execution_count": 13,
   "metadata": {},
   "outputs": [
    {
     "data": {
      "text/plain": [
       "233"
      ]
     },
     "execution_count": 13,
     "metadata": {},
     "output_type": "execute_result"
    }
   ],
   "source": [
    "(fib 12)"
   ]
  },
  {
   "cell_type": "markdown",
   "metadata": {},
   "source": [
    "$\\textit{Observe o padrão:}$ para calcular (fib 5), calculamos (fib 4) e (fib 3). Para calcular (fib 4), calculamos (fib 3) e (fib 2). Em geral, o processo evoluído parece uma árvore em que os ramos são divididos em dois em cada nível (exceto na parte inferior), isso reflete o fato de que o procedimento fib se chamar\n",
    "duas vezes cada vez que é chamado."
   ]
  },
  {
   "cell_type": "markdown",
   "metadata": {},
   "source": [
    "$$ (fib 5)\\\\\n",
    "\\swarrow  \\searrow \\\\\n",
    "(fib 4) \\hspace{5cm} (fib 3)\\\\\n",
    "\\swarrow  \\searrow \\hspace{5.4 cm} \\swarrow  \\searrow \\\\\n",
    "(fib 3) \\hspace{1.2cm} (fib 2) \\hspace{3.5cm} (fib 2) \\hspace{1.2cm} (fib 1)\\\\\n",
    "\\swarrow  \\searrow \\hspace{2cm} \\swarrow  \\searrow \\hspace{3.6cm}\\swarrow  \\searrow \\hspace{2cm}\\swarrow  \\searrow  \\\\\n",
    "(fib 2) \\hspace{0.4cm} (fib 1) \\hspace{0.7cm} (fib 1) \\hspace{0.4cm} (fib 0)\\hspace{2.2cm}(fib 1) \\hspace{0.4cm} (fib 0) \\hspace{0.6cm} (--)\\hspace{0.4cm}(--)\\\\\n",
    "\\swarrow  \\searrow \\hspace{0.75cm} \\swarrow  \\searrow \\hspace{1.5cm}\\swarrow  \\searrow \\hspace{0.75cm}\\swarrow \\searrow \\hspace{2.2cm}\\swarrow  \\searrow \\hspace{0.55cm} \\swarrow  \\searrow \\hspace{0.9cm}\\swarrow  \\searrow \\hspace{0.55cm}\\swarrow  \\searrow\\\\\n",
    "(fib 1) \\hspace{0.03cm} (fib 0) \\hspace{0.05cm} (-) \\hspace{0.05cm} (-)\\hspace{0.03cm}(fib 1) \\hspace{0.01cm} (fib 0) \\hspace{0.03cm} (-)\\hspace{0.01cm}(-)\\hspace{1cm}(fib 1) \\hspace{0.01cm} (fib 0) \\hspace{0.03cm} (-) \\hspace{0.01cm} (--)\\hspace{0.03cm}(-) \\hspace{0.01cm} (--) \\hspace{0.03cm} (-)\\hspace{0.01cm}(-)$$"
   ]
  },
  {
   "cell_type": "markdown",
   "metadata": {},
   "source": [
    "Também podemos formular Fibonacci por um processo iterativo! Iniciamos com os parâmetros $a = Fib(1) = 1 e b = Fib(0) = 0$ e fazemos repetidamente as transformações: $a \\leftarrow a+b$    e    $b \\leftarrow a$. "
   ]
  },
  {
   "cell_type": "code",
   "execution_count": 14,
   "metadata": {},
   "outputs": [
    {
     "name": "stderr",
     "output_type": "stream",
     "text": [
      "SIMPLE-STYLE-WARNING: \n",
      "  undefined function: FIB-ITER\n"
     ]
    },
    {
     "data": {
      "text/plain": [
       "FIB-ITER"
      ]
     },
     "execution_count": 14,
     "metadata": {},
     "output_type": "execute_result"
    }
   ],
   "source": [
    "(defun fib_i (n)\n",
    "    (fib-iter 1 0 n))\n",
    "(defun fib-iter (a b count)\n",
    "    (if (= count 0)\n",
    "        b\n",
    "        (fib-iter (+ a b) a (- count 1))))"
   ]
  },
  {
   "cell_type": "code",
   "execution_count": 15,
   "metadata": {},
   "outputs": [
    {
     "data": {
      "text/plain": [
       "5"
      ]
     },
     "execution_count": 15,
     "metadata": {},
     "output_type": "execute_result"
    }
   ],
   "source": [
    "(fib_i 5)"
   ]
  },
  {
   "cell_type": "markdown",
   "metadata": {},
   "source": [
    "Esse método é uma iteração linear! A diferença entre os dois processos de cálculo de Fib(n) em número de passos é enorme, pois um é linear em n e o outro acompanha o crescimento de Fib(n)."
   ]
  },
  {
   "cell_type": "markdown",
   "metadata": {
    "collapsed": true
   },
   "source": [
    "$\\textbf{Código em CL referente ao exemplo Counting Change}$"
   ]
  },
  {
   "cell_type": "markdown",
   "metadata": {},
   "source": [
    "É preciso apenas um pouco de astúcia para chegar ao algoritmo iterativo Fibonacci. Em contraste, considere o seguinte problema: de quantas maneiras diferentes podemos fazer mudanças de $ 1.00, com meia-dólares, trimestres, centavos, moedas e centavos? Mais geralmente, podemos escrever um procedimento para receber várias permissões para trocar alguns dados? O problema tem uma solução simples como um procedimento recursivo. Suponha que o tipo de infra-estrutura disponível seja substituído por uma determinada ordem. en a seguinte relação mantém: e número de maneiras de mudar a quantidade a usando n tipos de moeda iguais a\n",
    "• o número de maneiras de alterar a quantidade de usar tudo, exceto o primeiro tipo de moeda, além de • o número de maneiras de mudar amounta-d usando todos os tipos de moedas, onde é a denominação do primeiro tipo de moeda.\n",
    "Para ver por que isso é verdade, note que as formas de fazer mudanças podem ser divididas em dois grupos: aqueles que não usam nenhum dos primeiros tipos de moeda e aqueles que o fazem. Portanto, o número total de maneiras de fazer alterações indicam o número total do número da licença de compra para a quantidade sem usar o primeiro tipo de moeda, além do número de maneiras de fazer alterações assumindo que usamos o primeiro tipo de moeda. Mas o número de laxer é igual ao número de maneiras de fazer uma alteração na quantidade que permanece usando uma moeda do primeiro tipo. us, podemos reduzir recursivamente o problema de mudar uma certa quantia para o problema de mudar quantidades menores usando menos tipos de moedas. Considere cuidadosamente esta regra de redução e fique convencido\n",
    "51\n",
    "Que podemos usá-lo para descrever um algoritmo se especificarmos os seguintes casos degenerados: Ifa é exatamente 0, devemos contar isso como uma maneira de fazer mudanças. ] • Se não for necessário, o número de participantes deve ser o tamanho da carga. • Ifn é 0, devemos contar isso como 0 maneiras de fazer mudanças."
   ]
  },
  {
   "cell_type": "markdown",
   "metadata": {},
   "source": [
    "Agora, considere o seguinte problema: de quantas formas podemos dar um troco de R\\$1,OO? No geral, como podemos escrever uma função que irá receber várias opções para fazer gerar esse troco? Esse problema tem uma solução simples com um procedimento recursivo!! Suponha que o tipo de infra-estrutura disponível seja substituído por uma determinada ordem, assim a seguinte relação se mantém: o número de maneiras de dar o troco de uma quantidade $a$ usando $n$ tipos de moeda iguais é\n",
    "\n",
    "    • o número de dar o troco de $a$ com todos os tipos de moeda, exceto o primeiro e\n",
    "    • o número de maneiras de dar o troco de $a-d$ usando todos os tipos de moedas, onde d é a denominação do primeiro tipo de moeda.\n",
    "    \n",
    "Para ver por que isso é verdade, note que as formas de fazer mudanças podem ser divididas em dois grupos: aqueles que não usam nenhum dos primeiros tipos de moeda e aqueles que o fazem. Portanto, o número total de maneiras de dar o troco de determinado valor é igual a quantidade de maneiras diferentes de dar o troco sem usar nunhum dos tipos iniciais de moedas mais a quantidade de maneiras de dar o troco assumindo que usamos o primeiro tipo de moeda.\n",
    "Dessa forma, podemos reduzir o problema recursivamente a um problema onde a quantidade recebidapara o troco é menor, usando uma quantidade menor de moedas. Observe cuidadosamente essa redução e se convença de que podemos usar isso para descrever um algoritmos que especifica o seguinte caso geral:\n",
    "\n",
    " - Se $a = 0$, devemos considerar que existe 1 maneira de dar o troco;\n",
    " - Se $a \\leq 0$, temos $0$ maneiras de dar o troco e,\n",
    " - Se $n = 0$, também temos $0$ maneiras de dar o troco.\n",
    " \n",
    " $\\textit{Veja como fica o código recursivo desse problema:}$"
   ]
  },
  {
   "cell_type": "code",
   "execution_count": 16,
   "metadata": {},
   "outputs": [
    {
     "name": "stderr",
     "output_type": "stream",
     "text": [
      "SIMPLE-STYLE-WARNING: \n",
      "  undefined function: CC\n",
      "\n",
      "SIMPLE-STYLE-WARNING: \n",
      "  undefined function: FIRST-DENOMINATION\n"
     ]
    },
    {
     "data": {
      "text/plain": [
       "FIRST-DENOMINATION"
      ]
     },
     "execution_count": 16,
     "metadata": {},
     "output_type": "execute_result"
    }
   ],
   "source": [
    "(defun count-change (amount) (cc amount 5))\n",
    "(defun cc (amount kinds-of-coins) \n",
    "    (cond ((= amount 0) 1)\n",
    "            ((or (< amount 0) (= kinds-of-coins 0)) 0) \n",
    "            ((+ (cc amount (- kinds-of-coins 1))\n",
    "               (cc (- amount (first-denomination\n",
    "                              kinds-of-coins))\n",
    "                   kinds-of-coins)))))\n",
    "(defun first-denomination (kinds-of-coins)\n",
    "    (cond ((= kinds-of-coins 1) 1)\n",
    "        ((= kinds-of-coins 2) 5)\n",
    "        ((= kinds-of-coins 3) 10) \n",
    "        ((= kinds-of-coins 4) 25)\n",
    "        ((= kinds-of-coins 5) 50)))"
   ]
  },
  {
   "cell_type": "code",
   "execution_count": 17,
   "metadata": {},
   "outputs": [
    {
     "data": {
      "text/plain": [
       "1"
      ]
     },
     "execution_count": 17,
     "metadata": {},
     "output_type": "execute_result"
    }
   ],
   "source": [
    "(count-change 1) ; uma única moeda de 1 centavo"
   ]
  },
  {
   "cell_type": "code",
   "execution_count": 18,
   "metadata": {},
   "outputs": [
    {
     "data": {
      "text/plain": [
       "2"
      ]
     },
     "execution_count": 18,
     "metadata": {},
     "output_type": "execute_result"
    }
   ],
   "source": [
    "(count-change 5) ; 5 moedas de 1 centavo ou 1 moeda de 5 centavos"
   ]
  },
  {
   "cell_type": "code",
   "execution_count": 19,
   "metadata": {},
   "outputs": [
    {
     "data": {
      "text/plain": [
       "4"
      ]
     },
     "execution_count": 19,
     "metadata": {},
     "output_type": "execute_result"
    }
   ],
   "source": [
    "(count-change 10) ; 10 moedas de 1 centavo, \n",
    "                  ; 1 moeda de 5 centavos e 5 de 1 centavo\n",
    "                  ; 2 moedas de 5 centavos\n",
    "                  ; 1 moeda de 10 centavos"
   ]
  },
  {
   "cell_type": "code",
   "execution_count": 20,
   "metadata": {},
   "outputs": [
    {
     "data": {
      "text/plain": [
       "292"
      ]
     },
     "execution_count": 20,
     "metadata": {},
     "output_type": "execute_result"
    }
   ],
   "source": [
    "(count-change 100)"
   ]
  },
  {
   "cell_type": "markdown",
   "metadata": {},
   "source": [
    "### Ordem de Crescimento de uma função"
   ]
  },
  {
   "cell_type": "markdown",
   "metadata": {},
   "source": [
    "Cada função pode diferir no que diz respeito à razão pela qual a os recursos computacionais são consumidos. Uma forma de descrever essa diferença é através da noção de $\\textit{ordem de crescimento}$ para obtermos uma mensuração bruta dos recursos requeridos pelo procedimento conforme as entradas vão crescendo.\n",
    "Seja $n$ o parâmetro que mede o \"tamanho\" do problema e $R(n)$ a quantidade de recursos requeridos para o problema de tamanho $n$. Dizemos que $R(n)$ tem a ordem de crescimento $ \\Theta(f(n))$, $R(n)=\\Theta(f(n))$, se existem constantes $k_{1}$ e $k_{2}$ \n",
    "independentes de $n$ tal que $k_{1}f(n) \\leq R(n) \\leq k_{2}f(n)$.\n",
    "\n",
    "As ordens de crescimento fornecem apenas uma descrição grosseira do comportamento de um processo. Por exemplo, um processo que requer passos $n^{2}$ e um processo que requer $1000n^{2}$ etapas e um processo que requer $3n^{2} + 10n + 17$ passos todos tem uma ordem de crescimento $(n^{2})$. Por outro lado, a ordem do crescimento fornece uma indicação útil de como se pode verificar o comportamento do processo ao mudarmos o tamanho do problema. Para um processo $\\Theta(n)$ (linear), dobrar o tamanho do problema irá  duplicar a quantidade recursos usados. Para um processo exponencial, cada aumento no tamanho do problema irá multiplicar os recursos utilizados por um fator constante."
   ]
  },
  {
   "cell_type": "markdown",
   "metadata": {},
   "source": [
    "### Exponencial:\n",
    "Considere o problema de computar o exponencial de um número. Gostaríamos de ter uma função que receba a base $b$ e um inteiro positivo $n$ para calcular $b^{n}$. Uma forma de chegarmos a esse resultado é:"
   ]
  },
  {
   "cell_type": "code",
   "execution_count": 21,
   "metadata": {},
   "outputs": [
    {
     "data": {
      "text/plain": [
       "EXPONENCIAL"
      ]
     },
     "execution_count": 21,
     "metadata": {},
     "output_type": "execute_result"
    }
   ],
   "source": [
    "(defun exponencial (b n)\n",
    "    (if (= n 0)\n",
    "        1\n",
    "        (* b (exponencial b (- n 1)))))"
   ]
  },
  {
   "cell_type": "code",
   "execution_count": 22,
   "metadata": {},
   "outputs": [
    {
     "data": {
      "text/plain": [
       "32"
      ]
     },
     "execution_count": 22,
     "metadata": {},
     "output_type": "execute_result"
    }
   ],
   "source": [
    "(exponencial 2 5)"
   ]
  },
  {
   "cell_type": "code",
   "execution_count": 23,
   "metadata": {},
   "outputs": [
    {
     "data": {
      "text/plain": [
       "40353607"
      ]
     },
     "execution_count": 23,
     "metadata": {},
     "output_type": "execute_result"
    }
   ],
   "source": [
    "(exponencial 7 9)"
   ]
  },
  {
   "cell_type": "markdown",
   "metadata": {},
   "source": [
    "Esse é um processo recursivo linear, pois requer $\\Theta(n)$ passos e  $\\Theta(n)$ de espaço. Assim como na função fatorial, podemos reescrever de forma linear iterativa:"
   ]
  },
  {
   "cell_type": "code",
   "execution_count": 24,
   "metadata": {},
   "outputs": [
    {
     "name": "stderr",
     "output_type": "stream",
     "text": [
      "SIMPLE-STYLE-WARNING: \n",
      "  undefined function: EXP_ITER\n",
      "\n",
      "SIMPLE-STYLE-WARNING: \n",
      "  undefined function: EXP_ITER\n"
     ]
    },
    {
     "data": {
      "text/plain": [
       "EXP-ITER"
      ]
     },
     "execution_count": 24,
     "metadata": {},
     "output_type": "execute_result"
    }
   ],
   "source": [
    "(defun exp_i (b n)\n",
    "    (exp_iter b n 1))\n",
    "(defun exp-iter (b counter product)\n",
    "    (if (= counter 0)\n",
    "        product\n",
    "        (exp_iter b\n",
    "                  (- counter 1)\n",
    "                  (* b product))))\n"
   ]
  },
  {
   "cell_type": "markdown",
   "metadata": {},
   "source": [
    "Essa versão requer $\\Theta(n)$ passos e $\\Theta(1)$ de espaço.\n",
    "\n",
    "Podemos calcular exponencial e poucos passos usando sucessivos quadrados. Por exemplo, ao invés de calcular $b^{8}$ assim\n",
    "$$b.( b.( b.( b.( b.( b.( b.b))))))$$\n",
    "podemos escrever assim:\n",
    "$$ b^{2} = b.b \\\\ b^{4} = b^{2}.b^{2} \\\\ b^{8}= b^{4}.b^{4}$$\n",
    "Esse método é bom para exponencias que são potência de 2, entretanto, podemos usá-lo de forma geral seguindo a seguinte regra\n",
    "$$b^{n}= (b^{\\frac{1}{2}})^{2}, \\text{ se n é par,}\\\\\n",
    "b^{n}=b.b^{n-1}, \\text{ se n é ímpar}.$$"
   ]
  },
  {
   "cell_type": "markdown",
   "metadata": {},
   "source": [
    "Escrevemos assim"
   ]
  },
  {
   "cell_type": "code",
   "execution_count": 25,
   "metadata": {},
   "outputs": [
    {
     "name": "stderr",
     "output_type": "stream",
     "text": [
      "SIMPLE-STYLE-WARNING: \n",
      "  undefined function: EVEN?\n",
      "\n",
      "SIMPLE-STYLE-WARNING: \n",
      "  undefined function: SQUARE\n"
     ]
    },
    {
     "data": {
      "text/plain": [
       "SQUARE"
      ]
     },
     "execution_count": 25,
     "metadata": {},
     "output_type": "execute_result"
    }
   ],
   "source": [
    "(defun fast-exp (b n)\n",
    "    (cond ((= n 0) 1)\n",
    "        ((even? n) (square (fast-exp b (/ n 2))))\n",
    "        ((* b (fast-exp b (- n 1))))))\n",
    "(defun even? (n)\n",
    "    (= (rem n 2) 0))\n",
    "(defun square (n)\n",
    "    (* n n))"
   ]
  },
  {
   "cell_type": "code",
   "execution_count": 26,
   "metadata": {},
   "outputs": [
    {
     "data": {
      "text/plain": [
       "8"
      ]
     },
     "execution_count": 26,
     "metadata": {},
     "output_type": "execute_result"
    }
   ],
   "source": [
    "(fast-exp 2 3)"
   ]
  },
  {
   "cell_type": "code",
   "execution_count": 27,
   "metadata": {},
   "outputs": [
    {
     "data": {
      "text/plain": [
       "16"
      ]
     },
     "execution_count": 27,
     "metadata": {},
     "output_type": "execute_result"
    }
   ],
   "source": [
    "(fast-exp 4 2)"
   ]
  },
  {
   "cell_type": "markdown",
   "metadata": {},
   "source": [
    "A função $\\textit{fast-exp}$ cresce logaritmicamente em $n$, $(\\Theta(log n))$, tanto no número de passos quanto na quantidade de espaço. Veja que para calcular $b^{2n}$ só precisamos de mais uma multiplicação depois de calcularmos $b^{n}$."
   ]
  },
  {
   "cell_type": "markdown",
   "metadata": {},
   "source": [
    "### Maior divisor comum (MDC)\n"
   ]
  },
  {
   "cell_type": "markdown",
   "metadata": {},
   "source": [
    "O $mdc$ de dois inteiros $a$ e $b$ é definido como o maior inteiro que divide a e b sem resto. Por exemplo, o $mdc$ de $16$ e $28$ é $4$. Uma forma de calcular o $mdc$ de dois números é fatorar os dois números e procurar o maior fator comum, mas existe outra forma muito mais eficiente!\n",
    "A ideia do algoritmo é baseada na observação de que, se $r$ é o resto de $a$ dividido por $b$, então o maior divisor comum de $a$ e $b$ é precisamente o mesmo divisor comum de $b$ e $r$. Assim, podemos usar a equação $$mdc(a,b)=mdc(b,r)$$ para realizar sucessivas redução do problema de calcular o mdc em cálculos de mdc de pares de inteiros cada vez menores. \n",
    "\n",
    "Veja o exemplo:\n",
    "$$ mdc(206,40) = mdc(40,6)\\\\ = mdc(6,4)\\\\ = mdc(4,2)\\\\ = mdc(2,0) \\\\ = 2$$"
   ]
  },
  {
   "cell_type": "markdown",
   "metadata": {},
   "source": [
    "É possível ver que, começando com qualquer dois inteiros positivos e realizando reduções repetidamente, conseguimos, eventualmente, chegar a um par no qual o segundo número é 0. Assim, o mdc é o outro número do par! Esse método é chamado de $\\textit{Algorítmo de Euclides}$"
   ]
  },
  {
   "cell_type": "code",
   "execution_count": 28,
   "metadata": {},
   "outputs": [
    {
     "data": {
      "text/plain": [
       "MDC"
      ]
     },
     "execution_count": 28,
     "metadata": {},
     "output_type": "execute_result"
    }
   ],
   "source": [
    "(defun mdc (a b)\n",
    "    (if (= b 0)\n",
    "        a\n",
    "        (mdc b (rem a b))))"
   ]
  },
  {
   "cell_type": "code",
   "execution_count": 29,
   "metadata": {},
   "outputs": [
    {
     "data": {
      "text/plain": [
       "3"
      ]
     },
     "execution_count": 29,
     "metadata": {},
     "output_type": "execute_result"
    }
   ],
   "source": [
    "(mdc 51 3)"
   ]
  },
  {
   "cell_type": "code",
   "execution_count": 30,
   "metadata": {},
   "outputs": [
    {
     "data": {
      "text/plain": [
       "12"
      ]
     },
     "execution_count": 30,
     "metadata": {},
     "output_type": "execute_result"
    }
   ],
   "source": [
    "(mdc 240 36)"
   ]
  },
  {
   "cell_type": "markdown",
   "metadata": {},
   "source": [
    "### Exemplo: Teste de primalidade"
   ]
  },
  {
   "cell_type": "markdown",
   "metadata": {},
   "source": [
    "Agora iremos ver dois métodos para checar a primalidade de um inteiro $n$, um com ordem de crescimento $\\Theta(\\sqrt{n})$ e um algotítmo \"probabilístico\" com ordem de crescimento $\\Theta(logn)$.\n",
    "\n",
    "$\\textbf{Procurando por divisores}$\n"
   ]
  },
  {
   "cell_type": "markdown",
   "metadata": {},
   "source": [
    "Uma forma de descobrir se um número é primo é achar seus divisores. O conjunto de funções a seguir acha o menor divisor inteiro (maior que 1) de um dado número $n$. Ele faz isso de maneira simples, testando a divisibilidade de $n$ por sucessivos inteiros começando por 2."
   ]
  },
  {
   "cell_type": "code",
   "execution_count": 31,
   "metadata": {},
   "outputs": [
    {
     "name": "stderr",
     "output_type": "stream",
     "text": [
      "SIMPLE-STYLE-WARNING: \n",
      "  undefined function: FIND-DIVISOR\n",
      "\n",
      "SIMPLE-STYLE-WARNING: \n",
      "  undefined function: DEVIDES?\n"
     ]
    },
    {
     "data": {
      "text/plain": [
       "DEVIDES?"
      ]
     },
     "execution_count": 31,
     "metadata": {},
     "output_type": "execute_result"
    }
   ],
   "source": [
    "(defun smallest-divisor (n)\n",
    "    (find-divisor n 2))\n",
    "(defun find-divisor (n test-divisor)\n",
    "    (cond ((> (square test-divisor) n) n)\n",
    "        ((devides? test-divisor n) test-divisor)\n",
    "        ((find-divisor n (+ test-divisor 1)))))\n",
    "(defun devides? (a b)\n",
    "    (= (rem b a) 0))"
   ]
  },
  {
   "cell_type": "code",
   "execution_count": 32,
   "metadata": {},
   "outputs": [
    {
     "data": {
      "text/plain": [
       "2"
      ]
     },
     "execution_count": 32,
     "metadata": {},
     "output_type": "execute_result"
    }
   ],
   "source": [
    "(smallest-divisor 4)"
   ]
  },
  {
   "cell_type": "code",
   "execution_count": 33,
   "metadata": {},
   "outputs": [
    {
     "data": {
      "text/plain": [
       "3"
      ]
     },
     "execution_count": 33,
     "metadata": {},
     "output_type": "execute_result"
    }
   ],
   "source": [
    "(smallest-divisor 471)"
   ]
  },
  {
   "cell_type": "markdown",
   "metadata": {},
   "source": [
    "podemos testar se o número é primo comparando se, e somente se, $n$ é seu próprio $\\textit{smallest-divisor}$."
   ]
  },
  {
   "cell_type": "code",
   "execution_count": 34,
   "metadata": {},
   "outputs": [
    {
     "data": {
      "text/plain": [
       "PRIME?"
      ]
     },
     "execution_count": 34,
     "metadata": {},
     "output_type": "execute_result"
    }
   ],
   "source": [
    "(defun prime? (n)\n",
    "    (= n (smallest-divisor n)))"
   ]
  },
  {
   "cell_type": "code",
   "execution_count": 35,
   "metadata": {},
   "outputs": [
    {
     "data": {
      "text/plain": [
       "T"
      ]
     },
     "execution_count": 35,
     "metadata": {},
     "output_type": "execute_result"
    }
   ],
   "source": [
    "(prime? 5)"
   ]
  },
  {
   "cell_type": "code",
   "execution_count": 36,
   "metadata": {},
   "outputs": [
    {
     "data": {
      "text/plain": [
       "NIL"
      ]
     },
     "execution_count": 36,
     "metadata": {},
     "output_type": "execute_result"
    }
   ],
   "source": [
    "(prime? 16)"
   ]
  },
  {
   "cell_type": "markdown",
   "metadata": {},
   "source": [
    "$\\textbf{Teste de Fermat}$\n",
    "\n",
    "$\\textit{Pequeno Teorema de Fermat}$: Se $n$ é um número primo e $a$ é qualquer inteiro positivo menor que n, então $a$ elevado à $n-ésima$ potência é congruente à $a$ módulo $n$."
   ]
  },
  {
   "cell_type": "markdown",
   "metadata": {},
   "source": [
    "Se $n$ não é primo, então, no geral, $a<n$ não irá satisfazer a relação acima, o que nos leva ao seguinte algorítmo:\n",
    " - Pegamos um número $n$;\n",
    " - Escolhemos, aleatoriamente, um número $a$ tal que $a < n$;\n",
    " - Calculamos o valor do resto de $a^{n}$ módulo $n$.\n",
    "Se o resultado não for igual a $a$, então o número $n$ não é primo. Se for igual a $a$, então temos grandes chances de $n$ ser primo. Pegamos, agora outro número $a$ e testamos da mesma forma.\n",
    "Se a equação ainda for satisfeita, podemos ficar mais confiantes de que $n$ é primo.\n",
    "Testando com outros valores de $a$ podemos aumentara confiança no resultado.\n",
    "\n",
    "Para implementar o $\\textit{Teste de Fermat}$, precisamos de um proceimento que calcule a exponencial de um número módulo outro número:"
   ]
  },
  {
   "cell_type": "code",
   "execution_count": 42,
   "metadata": {},
   "outputs": [
    {
     "name": "stderr",
     "output_type": "stream",
     "text": [
      "REDEFINITION-WITH-DEFUN: \n",
      "  redefining CL-JUPYTER-USER::EXPMOD in DEFUN\n"
     ]
    },
    {
     "data": {
      "text/plain": [
       "EXPMOD"
      ]
     },
     "execution_count": 42,
     "metadata": {},
     "output_type": "execute_result"
    }
   ],
   "source": [
    "(defun expmod (base exp m)\n",
    "    (cond ((= exp 0) 1)\n",
    "        ((even? exp) (rem \n",
    "                     (square (expmod base (/ exp 2) m)) m))\n",
    "        ((rem (* base (expmod base (- exp 1) m)) m))))"
   ]
  },
  {
   "cell_type": "code",
   "execution_count": 51,
   "metadata": {},
   "outputs": [
    {
     "data": {
      "text/plain": [
       "1"
      ]
     },
     "execution_count": 51,
     "metadata": {},
     "output_type": "execute_result"
    }
   ],
   "source": [
    "(expmod 2 4 5)"
   ]
  },
  {
   "cell_type": "code",
   "execution_count": 48,
   "metadata": {},
   "outputs": [
    {
     "data": {
      "text/plain": [
       "1"
      ]
     },
     "execution_count": 48,
     "metadata": {},
     "output_type": "execute_result"
    }
   ],
   "source": [
    "(expmod 5 2 6)"
   ]
  },
  {
   "cell_type": "markdown",
   "metadata": {},
   "source": [
    "Agora vamos escrever o próprio $\\textit{Teste de Fermat}$:"
   ]
  },
  {
   "cell_type": "code",
   "execution_count": 55,
   "metadata": {},
   "outputs": [
    {
     "name": "stderr",
     "output_type": "stream",
     "text": [
      "REDEFINITION-WITH-DEFUN: \n",
      "  redefining CL-JUPYTER-USER::FERMAT-TEST in DEFUN\n"
     ]
    },
    {
     "data": {
      "text/plain": [
       "FERMAT-TEST"
      ]
     },
     "execution_count": 55,
     "metadata": {},
     "output_type": "execute_result"
    }
   ],
   "source": [
    "(defun fermat-test (n)\n",
    "    (defun try-it (a)\n",
    "        (= (expmod a n n) a))\n",
    "    (try-it (+ 1 (random (- n 1)))))"
   ]
  },
  {
   "cell_type": "code",
   "execution_count": 57,
   "metadata": {},
   "outputs": [
    {
     "name": "stderr",
     "output_type": "stream",
     "text": [
      "REDEFINITION-WITH-DEFUN: \n",
      "  redefining CL-JUPYTER-USER::TRY-IT in DEFUN\n"
     ]
    },
    {
     "data": {
      "text/plain": [
       "NIL"
      ]
     },
     "execution_count": 57,
     "metadata": {},
     "output_type": "execute_result"
    }
   ],
   "source": [
    "(fermat-test 8)"
   ]
  },
  {
   "cell_type": "code",
   "execution_count": 58,
   "metadata": {},
   "outputs": [
    {
     "name": "stderr",
     "output_type": "stream",
     "text": [
      "REDEFINITION-WITH-DEFUN: \n",
      "  redefining CL-JUPYTER-USER::TRY-IT in DEFUN\n"
     ]
    },
    {
     "data": {
      "text/plain": [
       "T"
      ]
     },
     "execution_count": 58,
     "metadata": {},
     "output_type": "execute_result"
    }
   ],
   "source": [
    "(fermat-test 4)"
   ]
  },
  {
   "cell_type": "code",
   "execution_count": 59,
   "metadata": {},
   "outputs": [
    {
     "name": "stderr",
     "output_type": "stream",
     "text": [
      "REDEFINITION-WITH-DEFUN: \n",
      "  redefining CL-JUPYTER-USER::TRY-IT in DEFUN\n"
     ]
    },
    {
     "data": {
      "text/plain": [
       "T"
      ]
     },
     "execution_count": 59,
     "metadata": {},
     "output_type": "execute_result"
    }
   ],
   "source": [
    "(fermat-test 5)"
   ]
  },
  {
   "cell_type": "markdown",
   "metadata": {},
   "source": [
    "A seguinte função irá receber um parâmetro times que dirá quantas vezes o teste será feito. O resultado será T, se obtivermos sucesso todas as \"times\" vezes, e, caso contrário, NIL."
   ]
  },
  {
   "cell_type": "code",
   "execution_count": 60,
   "metadata": {},
   "outputs": [
    {
     "data": {
      "text/plain": [
       "FAST-PRIME?"
      ]
     },
     "execution_count": 60,
     "metadata": {},
     "output_type": "execute_result"
    }
   ],
   "source": [
    "(defun fast-prime? (n times)\n",
    "    (cond ((= times 0) t)\n",
    "        ((fermat-test n) (fast-prime? n (- times 1)))\n",
    "        (nil)))"
   ]
  },
  {
   "cell_type": "code",
   "execution_count": 62,
   "metadata": {},
   "outputs": [
    {
     "name": "stderr",
     "output_type": "stream",
     "text": [
      "REDEFINITION-WITH-DEFUN: \n",
      "  redefining CL-JUPYTER-USER::TRY-IT in DEFUN\n"
     ]
    },
    {
     "data": {
      "text/plain": [
       "NIL"
      ]
     },
     "execution_count": 62,
     "metadata": {},
     "output_type": "execute_result"
    }
   ],
   "source": [
    "(fast-prime? 8 3)"
   ]
  },
  {
   "cell_type": "code",
   "execution_count": 63,
   "metadata": {},
   "outputs": [
    {
     "name": "stderr",
     "output_type": "stream",
     "text": [
      "REDEFINITION-WITH-DEFUN: \n",
      "  redefining CL-JUPYTER-USER::TRY-IT in DEFUN\n"
     ]
    },
    {
     "data": {
      "text/plain": [
       "NIL"
      ]
     },
     "execution_count": 63,
     "metadata": {},
     "output_type": "execute_result"
    }
   ],
   "source": [
    "(fast-prime? 4 3)"
   ]
  },
  {
   "cell_type": "code",
   "execution_count": 65,
   "metadata": {},
   "outputs": [
    {
     "name": "stderr",
     "output_type": "stream",
     "text": [
      "REDEFINITION-WITH-DEFUN: \n",
      "  redefining CL-JUPYTER-USER::TRY-IT in DEFUN\n",
      "\n",
      "REDEFINITION-WITH-DEFUN: \n",
      "  redefining CL-JUPYTER-USER::TRY-IT in DEFUN\n",
      "\n",
      "REDEFINITION-WITH-DEFUN: \n",
      "  redefining CL-JUPYTER-USER::TRY-IT in DEFUN\n"
     ]
    },
    {
     "data": {
      "text/plain": [
       "T"
      ]
     },
     "execution_count": 65,
     "metadata": {},
     "output_type": "execute_result"
    }
   ],
   "source": [
    "(fast-prime? 5 3)"
   ]
  },
  {
   "cell_type": "code",
   "execution_count": 66,
   "metadata": {},
   "outputs": [
    {
     "name": "stderr",
     "output_type": "stream",
     "text": [
      "REDEFINITION-WITH-DEFUN: \n",
      "  redefining CL-JUPYTER-USER::TRY-IT in DEFUN\n",
      "\n",
      "REDEFINITION-WITH-DEFUN: \n",
      "  redefining CL-JUPYTER-USER::TRY-IT in DEFUN\n",
      "\n",
      "REDEFINITION-WITH-DEFUN: \n",
      "  redefining CL-JUPYTER-USER::TRY-IT in DEFUN\n"
     ]
    },
    {
     "data": {
      "text/plain": [
       "T"
      ]
     },
     "execution_count": 66,
     "metadata": {},
     "output_type": "execute_result"
    }
   ],
   "source": [
    "(fast-prime? 17 3)"
   ]
  },
  {
   "cell_type": "code",
   "execution_count": null,
   "metadata": {
    "collapsed": true
   },
   "outputs": [],
   "source": []
  }
 ],
 "metadata": {
  "kernelspec": {
   "display_name": "SBCL Lisp",
   "language": "lisp",
   "name": "clisp"
  },
  "language_info": {
   "codemirror_mode": "text/x-common-lisp",
   "mimetype": "text/x-common-lisp",
   "name": "common-lisp",
   "pygments_lexer": "common-lisp",
   "version": "X3J13"
  }
 },
 "nbformat": 4,
 "nbformat_minor": 2
}
