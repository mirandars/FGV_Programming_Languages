{
 "cells": [
  {
   "cell_type": "markdown",
   "metadata": {},
   "source": [
    "# Capítulo 1\n",
    "\n",
    "## Seção 1.1 -  The Elements of Programming\n",
    "\n",
    "Based on the book: https://mitpress.mit.edu/sicp/full-text/book/book.html  \n",
    "\n",
    "Additional material: https://www.cs.bgu.ac.il/~mira/ppl-book-full.pdf  "
   ]
  },
  {
   "cell_type": "markdown",
   "metadata": {},
   "source": [
    "### Sintaxe:\n",
    "\n",
    "- x                  :  Variável x\n",
    "- ()                 :  Lista vazia; \n",
    "- (1 2 3)            :  Lista com 3 números; \n",
    "- (\"Common\" \"Lisp\")  :  Lista com duas strings; \n",
    "- (x y z)            :  Lista com três variáveis\n",
    "- (x 1 \"lisp\")       :  Lista com uma variável, um número e uma string\n",
    "- (+ (- 5 3) 4)      :  Lista com um variável, uma lista e um número"
   ]
  },
  {
   "cell_type": "markdown",
   "metadata": {},
   "source": [
    "### Expressões\n",
    "\n",
    "LISP é uma linguagem estruturada entre parênteses. Dessa forma as expressões são feitas da seguinte forma:\n",
    "                                    \n",
    "#### (< operador > < operandos >)\n",
    "\n",
    "- Como operadores temos as expressões primitivas: +, *, - e /.\n",
    "- Como operandos podemos ter dois ou mais elementos e esses elementos podem ser outras expressões.\n",
    "\n",
    "Exemplos:"
   ]
  },
  {
   "cell_type": "code",
   "execution_count": 13,
   "metadata": {},
   "outputs": [
    {
     "data": {
      "text/plain": [
       "71"
      ]
     },
     "execution_count": 13,
     "metadata": {},
     "output_type": "execute_result"
    }
   ],
   "source": [
    "(+ 50 21)"
   ]
  },
  {
   "cell_type": "code",
   "execution_count": 9,
   "metadata": {},
   "outputs": [
    {
     "data": {
      "text/plain": [
       "18"
      ]
     },
     "execution_count": 9,
     "metadata": {},
     "output_type": "execute_result"
    }
   ],
   "source": [
    "(- 37 19)"
   ]
  },
  {
   "cell_type": "code",
   "execution_count": 10,
   "metadata": {},
   "outputs": [
    {
     "data": {
      "text/plain": [
       "70"
      ]
     },
     "execution_count": 10,
     "metadata": {},
     "output_type": "execute_result"
    }
   ],
   "source": [
    "(* 2 35)"
   ]
  },
  {
   "cell_type": "code",
   "execution_count": 11,
   "metadata": {},
   "outputs": [
    {
     "data": {
      "text/plain": [
       "12"
      ]
     },
     "execution_count": 11,
     "metadata": {},
     "output_type": "execute_result"
    }
   ],
   "source": [
    "(/ 36 3)"
   ]
  },
  {
   "cell_type": "markdown",
   "metadata": {},
   "source": [
    "#### Método de Avaliação das Expressões:\n",
    "- Busque a subexpressão mais interna à esquerda, aplique o operador aos operandos e faça o mesmo para a expressão à direita, se existir e depois aplique o operador da subexpressão que contém as subespressões avaliadas. Repita o método sempre da subexpressão mais interna à esquerda para fora.\n",
    "\n",
    "Exemplo:\n"
   ]
  },
  {
   "cell_type": "code",
   "execution_count": 14,
   "metadata": {},
   "outputs": [
    {
     "data": {
      "text/plain": [
       "57"
      ]
     },
     "execution_count": 14,
     "metadata": {},
     "output_type": "execute_result"
    }
   ],
   "source": [
    "(+ (* 3 (+ (* 2 4) (+ 3 5))) (+ (- 10 7) 6))"
   ]
  },
  {
   "cell_type": "markdown",
   "metadata": {},
   "source": [
    "No caso acima a avaliação se dará da seguinte forma:\n",
    "\n",
    "1º Achamos a subexpressão mais interna à esquerda: (* 2 4) e aplicamos o operador aos operandos, resultando em 8;\n",
    "\n",
    "2º Fazemos o mesmo para a subexpressão a sua direita, (+ 3 5), resultando em 8;\n",
    "\n",
    "3º Aplicamos o operador (+) aos valores achados (8 e 8), resultando em 16;\n",
    "\n",
    "4º Nesse momento, (* 3 (+ (* 2 4) (+ 3 5)) se reduziu a (* 3 16) que é 48;\n",
    "\n",
    "5º Repita o que foi feito na subexpressão (+ (- 10 7) 6), o que resultará em 9;\n",
    "\n",
    "6º Aplique o operador da expressão (+) aos dois operandos já reduzidos (48 e 9)."
   ]
  },
  {
   "cell_type": "code",
   "execution_count": 15,
   "metadata": {},
   "outputs": [
    {
     "data": {
      "text/plain": [
       "57"
      ]
     },
     "execution_count": 15,
     "metadata": {},
     "output_type": "execute_result"
    }
   ],
   "source": [
    ";Escrever dessa forma é a melhor maneira de entender a expressão e calcular seu valor.\n",
    "(+ (* 3                 \n",
    "      (+ (* 2 4)     \n",
    "         (+ 3 5)))\n",
    "   (+ (- 10 7)\n",
    "      6))"
   ]
  },
  {
   "cell_type": "markdown",
   "metadata": {},
   "source": [
    "Em Common Lisp nomeamos variáveis com setq e, temporariamente, com let."
   ]
  },
  {
   "cell_type": "code",
   "execution_count": 16,
   "metadata": {},
   "outputs": [
    {
     "name": "stderr",
     "output_type": "stream",
     "text": [
      "SIMPLE-WARNING: \n",
      "undefined variable: A\n"
     ]
    },
    {
     "data": {
      "text/plain": [
       "5"
      ]
     },
     "execution_count": 16,
     "metadata": {},
     "output_type": "execute_result"
    }
   ],
   "source": [
    "(setq a 5)"
   ]
  },
  {
   "cell_type": "code",
   "execution_count": 18,
   "metadata": {},
   "outputs": [
    {
     "data": {
      "text/plain": [
       "7"
      ]
     },
     "execution_count": 18,
     "metadata": {},
     "output_type": "execute_result"
    }
   ],
   "source": [
    "(+ a 2)"
   ]
  },
  {
   "cell_type": "code",
   "execution_count": 22,
   "metadata": {},
   "outputs": [
    {
     "data": {
      "text/plain": [
       "3"
      ]
     },
     "execution_count": 22,
     "metadata": {},
     "output_type": "execute_result"
    }
   ],
   "source": [
    "(let ((a 2)) (+ a 1))"
   ]
  },
  {
   "cell_type": "code",
   "execution_count": 23,
   "metadata": {},
   "outputs": [
    {
     "data": {
      "text/plain": [
       "5"
      ]
     },
     "execution_count": 23,
     "metadata": {},
     "output_type": "execute_result"
    }
   ],
   "source": [
    "a"
   ]
  },
  {
   "cell_type": "code",
   "execution_count": 24,
   "metadata": {},
   "outputs": [
    {
     "data": {
      "text/plain": [
       "10"
      ]
     },
     "execution_count": 24,
     "metadata": {},
     "output_type": "execute_result"
    }
   ],
   "source": [
    "(* 2 a)"
   ]
  },
  {
   "cell_type": "markdown",
   "metadata": {},
   "source": [
    "E definimos funções em Common Lisp com defun, segindo o modelo abaixo:\n",
    "#### (defun < nome > (< parâmetros>) (< corpo >))\n",
    "\n",
    "                       \n",
    "Atenção: Os códigos do livro não estão em CL."
   ]
  },
  {
   "cell_type": "code",
   "execution_count": 33,
   "metadata": {},
   "outputs": [
    {
     "name": "stderr",
     "output_type": "stream",
     "text": [
      "REDEFINITION-WITH-DEFUN: \n",
      "  redefining CL-JUPYTER-USER::HELLO-WORLD in DEFUN\n"
     ]
    },
    {
     "data": {
      "text/plain": [
       "HELLO-WORLD"
      ]
     },
     "execution_count": 33,
     "metadata": {},
     "output_type": "execute_result"
    }
   ],
   "source": [
    "(defun hello-world ()\n",
    "  (format t \"hello, world\"))"
   ]
  },
  {
   "cell_type": "code",
   "execution_count": 34,
   "metadata": {},
   "outputs": [
    {
     "data": {
      "text/plain": [
       "COMPRIMENTO_CIRCUNFERENCIA"
      ]
     },
     "execution_count": 34,
     "metadata": {},
     "output_type": "execute_result"
    }
   ],
   "source": [
    "(defun comprimento_circunferencia (r)\n",
    "    (* 2 pi r))"
   ]
  },
  {
   "cell_type": "code",
   "execution_count": 35,
   "metadata": {},
   "outputs": [
    {
     "name": "stderr",
     "output_type": "stream",
     "text": [
      "REDEFINITION-WITH-DEFUN: \n",
      "  redefining CL-JUPYTER-USER::AREA_CIRCUNF in DEFUN\n"
     ]
    },
    {
     "data": {
      "text/plain": [
       "AREA_CIRCUNF"
      ]
     },
     "execution_count": 35,
     "metadata": {},
     "output_type": "execute_result"
    }
   ],
   "source": [
    "(defun area_circunf (r)\n",
    "    (* pi (* r r)))"
   ]
  },
  {
   "cell_type": "code",
   "execution_count": 36,
   "metadata": {},
   "outputs": [
    {
     "data": {
      "text/plain": [
       "78.53981633974483d0"
      ]
     },
     "execution_count": 36,
     "metadata": {},
     "output_type": "execute_result"
    }
   ],
   "source": [
    "(area_circunf 5)"
   ]
  },
  {
   "cell_type": "code",
   "execution_count": 37,
   "metadata": {},
   "outputs": [
    {
     "data": {
      "text/plain": [
       "31.41592653589793d0"
      ]
     },
     "execution_count": 37,
     "metadata": {},
     "output_type": "execute_result"
    }
   ],
   "source": [
    "(comprimento_circunferencia 5)"
   ]
  },
  {
   "cell_type": "code",
   "execution_count": 41,
   "metadata": {},
   "outputs": [
    {
     "data": {
      "text/plain": [
       "9"
      ]
     },
     "execution_count": 41,
     "metadata": {},
     "output_type": "execute_result"
    }
   ],
   "source": [
    "(defun square (x)\n",
    "    (* x x))\n",
    "\n",
    "(square 3)"
   ]
  },
  {
   "cell_type": "code",
   "execution_count": 38,
   "metadata": {},
   "outputs": [
    {
     "data": {
      "text/plain": [
       "7"
      ]
     },
     "execution_count": 38,
     "metadata": {},
     "output_type": "execute_result"
    }
   ],
   "source": [
    "(defun soma (x y)\n",
    "    (+ x y))\n",
    "\n",
    "(soma 3 4)"
   ]
  },
  {
   "cell_type": "markdown",
   "metadata": {
    "collapsed": true
   },
   "source": [
    "##### Modelo de Substituição:  \n",
    "Outra forma de avaliar as expressões seria aplicar os procedimentos compostos, as funções, aos argumentos. Como fazer? Avalie o corpo da função trocando cada parâmetro formal pelo seu argumento correspondente. Veja o exemplo abaixo:"
   ]
  },
  {
   "cell_type": "code",
   "execution_count": 42,
   "metadata": {},
   "outputs": [
    {
     "name": "stderr",
     "output_type": "stream",
     "text": [
      "REDEFINITION-WITH-DEFUN: \n",
      "  redefining CL-JUPYTER-USER::SUM-OF-SQUARES in DEFUN\n"
     ]
    },
    {
     "data": {
      "text/plain": [
       "SUM-OF-SQUARES"
      ]
     },
     "execution_count": 42,
     "metadata": {},
     "output_type": "execute_result"
    }
   ],
   "source": [
    "(defun sum-of-squares (x y)\n",
    "    (+ (square x) (square y)))"
   ]
  },
  {
   "cell_type": "code",
   "execution_count": 43,
   "metadata": {},
   "outputs": [
    {
     "data": {
      "text/plain": [
       "25"
      ]
     },
     "execution_count": 43,
     "metadata": {},
     "output_type": "execute_result"
    }
   ],
   "source": [
    "(sum-of-squares 3 4)"
   ]
  },
  {
   "cell_type": "code",
   "execution_count": 44,
   "metadata": {},
   "outputs": [
    {
     "data": {
      "text/plain": [
       "136"
      ]
     },
     "execution_count": 44,
     "metadata": {},
     "output_type": "execute_result"
    }
   ],
   "source": [
    "(defun f (a)\n",
    "    (sum-of-squares (+ a 1) (* a 2)))\n",
    "(f 5)"
   ]
  },
  {
   "cell_type": "markdown",
   "metadata": {},
   "source": [
    "###### O que foi feito? \n",
    "\n",
    "Ao ser chamado, (f 5) chamou (sum-of-squares (+ 5 1) (* 5 2)) = (sum-of-squares 6 10) = (+ (square 6) (square 10)) = (+ (* 6 6) (* 10 10)) = (+ 36 100) = 136"
   ]
  },
  {
   "cell_type": "markdown",
   "metadata": {},
   "source": [
    "#### Expressões Condicionais e Atributos:\n",
    "\n",
    "* O construtor cond (que \"significa\" condição) é chamado de análise de caso, pois analizará os atributos na ordem dada, e, caso este seja verdadeiro, aplicará a expressão, seguindo o formato:\n",
    "                                         \n",
    "                                         (cond   ( <p1> <e1> )\n",
    "                                                 ( <p2> <e2> )\n",
    "                                                      ...\n",
    "                                                 ( <pn> <en> )\n",
    "                                                 \n",
    "\n",
    "Veja o exemplo:\n"
   ]
  },
  {
   "cell_type": "code",
   "execution_count": 49,
   "metadata": {},
   "outputs": [
    {
     "name": "stderr",
     "output_type": "stream",
     "text": [
      "REDEFINITION-WITH-DEFUN: \n",
      "  redefining CL-JUPYTER-USER::ABS-1 in DEFUN\n"
     ]
    },
    {
     "data": {
      "text/plain": [
       "ABS-1"
      ]
     },
     "execution_count": 49,
     "metadata": {},
     "output_type": "execute_result"
    }
   ],
   "source": [
    "(defun abs-1 (x)\n",
    "    (cond ((> x 0) x)\n",
    "        ((eq x 0) 0)\n",
    "        ((< x 0) (- x))))"
   ]
  },
  {
   "cell_type": "code",
   "execution_count": 50,
   "metadata": {},
   "outputs": [
    {
     "data": {
      "text/plain": [
       "8"
      ]
     },
     "execution_count": 50,
     "metadata": {},
     "output_type": "execute_result"
    }
   ],
   "source": [
    "(abs-1 8)"
   ]
  },
  {
   "cell_type": "code",
   "execution_count": 51,
   "metadata": {},
   "outputs": [
    {
     "data": {
      "text/plain": [
       "0"
      ]
     },
     "execution_count": 51,
     "metadata": {},
     "output_type": "execute_result"
    }
   ],
   "source": [
    "(abs-1 0)"
   ]
  },
  {
   "cell_type": "code",
   "execution_count": 52,
   "metadata": {},
   "outputs": [
    {
     "data": {
      "text/plain": [
       "1"
      ]
     },
     "execution_count": 52,
     "metadata": {},
     "output_type": "execute_result"
    }
   ],
   "source": [
    "(abs -1)"
   ]
  },
  {
   "cell_type": "markdown",
   "metadata": {},
   "source": [
    "* A forma especial if é usada quando temos precisamente dois casos na análise de caso. Sua forma geral é:\n",
    "                                  (if <atributo> <consequência> <alternativa>)\n",
    "e é avaliada dada da seguinte forma: o < atributo > é avaliado e se for verdadeiro (True), faz-se o que está na < consequência > , caso seja falso (False), o faz-se o que está na < alternativa >. \n",
    "\n",
    "Exemplos:"
   ]
  },
  {
   "cell_type": "code",
   "execution_count": 56,
   "metadata": {},
   "outputs": [
    {
     "data": {
      "text/plain": [
       "ABS-2"
      ]
     },
     "execution_count": 56,
     "metadata": {},
     "output_type": "execute_result"
    }
   ],
   "source": [
    "(defun abs-2 (x)\n",
    "    (if (>= x 0) x (- x)))"
   ]
  },
  {
   "cell_type": "code",
   "execution_count": 57,
   "metadata": {},
   "outputs": [
    {
     "data": {
      "text/plain": [
       "9"
      ]
     },
     "execution_count": 57,
     "metadata": {},
     "output_type": "execute_result"
    }
   ],
   "source": [
    "(abs-2 9)"
   ]
  },
  {
   "cell_type": "code",
   "execution_count": 58,
   "metadata": {},
   "outputs": [
    {
     "data": {
      "text/plain": [
       "0"
      ]
     },
     "execution_count": 58,
     "metadata": {},
     "output_type": "execute_result"
    }
   ],
   "source": [
    "(abs-2 0)"
   ]
  },
  {
   "cell_type": "code",
   "execution_count": 59,
   "metadata": {},
   "outputs": [
    {
     "data": {
      "text/plain": [
       "5"
      ]
     },
     "execution_count": 59,
     "metadata": {},
     "output_type": "execute_result"
    }
   ],
   "source": [
    "(abs-2 -5)"
   ]
  },
  {
   "cell_type": "markdown",
   "metadata": {},
   "source": [
    "* Podemos, também, usar composições lógicas (e, ou, não) para formar os atributos:\n"
   ]
  },
  {
   "cell_type": "markdown",
   "metadata": {},
   "source": [
    "####  - AND:                                    \n",
    "                                      (and < e1> ... < en>)\n",
    "O interpretador avalia as expressões < e > uma por uma e da esquerda para a direita. Se a avaliação de algum < e > for falso, a expressão toda é falsa e os outros < e > não são avaliadas. Se todos os < e > são verdadeiros, o valor da and expression é o valor do último. \n",
    "\n",
    "Exemplo:"
   ]
  },
  {
   "cell_type": "code",
   "execution_count": 60,
   "metadata": {},
   "outputs": [
    {
     "data": {
      "text/plain": [
       "ENTRE5E10"
      ]
     },
     "execution_count": 60,
     "metadata": {},
     "output_type": "execute_result"
    }
   ],
   "source": [
    "(defun entre5e10 (x)\n",
    "    (if (and (> x 5) (< x 10))\n",
    "        t                          ; Retorna True: \" o número está entre 5 e 10\"\n",
    "        nil))                      ; Quando queremos retornar false, retornamos nil: \"o número não está entre 5 e 10\""
   ]
  },
  {
   "cell_type": "code",
   "execution_count": 61,
   "metadata": {},
   "outputs": [
    {
     "data": {
      "text/plain": [
       "T"
      ]
     },
     "execution_count": 61,
     "metadata": {},
     "output_type": "execute_result"
    }
   ],
   "source": [
    "(entre5e10 7)"
   ]
  },
  {
   "cell_type": "code",
   "execution_count": 62,
   "metadata": {},
   "outputs": [
    {
     "data": {
      "text/plain": [
       "NIL"
      ]
     },
     "execution_count": 62,
     "metadata": {},
     "output_type": "execute_result"
    }
   ],
   "source": [
    "(entre5e10 3)"
   ]
  },
  {
   "cell_type": "code",
   "execution_count": 63,
   "metadata": {},
   "outputs": [
    {
     "data": {
      "text/plain": [
       "NIL"
      ]
     },
     "execution_count": 63,
     "metadata": {},
     "output_type": "execute_result"
    }
   ],
   "source": [
    "(entre5e10 10)"
   ]
  },
  {
   "cell_type": "markdown",
   "metadata": {},
   "source": [
    "#### - OR:\n",
    "                                            (or <e1> ... <en>) \n",
    "O interpretador avalia as expressões < e > uma por uma e da esquerda para a direita. Se a avaliação de algum < e > for verdadeiro, a expressão toda é verdadeira e os outros < e > não são avaliadas. Se todos os < e > são falsos, o valor da or expression é falsa.\n",
    "\n",
    "Exemplo:"
   ]
  },
  {
   "cell_type": "code",
   "execution_count": 64,
   "metadata": {},
   "outputs": [
    {
     "data": {
      "text/plain": [
       "MAIORIGUAL"
      ]
     },
     "execution_count": 64,
     "metadata": {},
     "output_type": "execute_result"
    }
   ],
   "source": [
    "(defun maiorigual (x y)\n",
    "    (if (or (> x y) (= x y))\n",
    "        t\n",
    "        nil))"
   ]
  },
  {
   "cell_type": "code",
   "execution_count": 65,
   "metadata": {},
   "outputs": [
    {
     "data": {
      "text/plain": [
       "NIL"
      ]
     },
     "execution_count": 65,
     "metadata": {},
     "output_type": "execute_result"
    }
   ],
   "source": [
    "(maiorigual 2 3)"
   ]
  },
  {
   "cell_type": "code",
   "execution_count": 66,
   "metadata": {},
   "outputs": [
    {
     "data": {
      "text/plain": [
       "T"
      ]
     },
     "execution_count": 66,
     "metadata": {},
     "output_type": "execute_result"
    }
   ],
   "source": [
    "(maiorigual 3 2)"
   ]
  },
  {
   "cell_type": "markdown",
   "metadata": {},
   "source": [
    "#### - NOT:\n",
    "                                        (not <e>)\n",
    "O valor da not expression é verdadeiro quando a avaliação do < e > for falsa, e falso quando a avaliação do < e > for verdadeira.\n",
    "\n",
    "Exemplo:"
   ]
  },
  {
   "cell_type": "code",
   "execution_count": 67,
   "metadata": {},
   "outputs": [
    {
     "data": {
      "text/plain": [
       "MAIORIGUAL-2"
      ]
     },
     "execution_count": 67,
     "metadata": {},
     "output_type": "execute_result"
    }
   ],
   "source": [
    "(defun maiorigual-2 (x y)\n",
    "    (if (not (< x y))\n",
    "        t\n",
    "        nil))"
   ]
  },
  {
   "cell_type": "code",
   "execution_count": 68,
   "metadata": {},
   "outputs": [
    {
     "data": {
      "text/plain": [
       "NIL"
      ]
     },
     "execution_count": 68,
     "metadata": {},
     "output_type": "execute_result"
    }
   ],
   "source": [
    "(maiorigual-2 4 5)"
   ]
  },
  {
   "cell_type": "code",
   "execution_count": 69,
   "metadata": {},
   "outputs": [
    {
     "data": {
      "text/plain": [
       "T"
      ]
     },
     "execution_count": 69,
     "metadata": {},
     "output_type": "execute_result"
    }
   ],
   "source": [
    "(maiorigual-2 5 4)"
   ]
  },
  {
   "cell_type": "markdown",
   "metadata": {},
   "source": [
    "#### - Exemplo: Raiz quadrada pelo método de Newton (Seção 1.1.7 - pág. 23)"
   ]
  },
  {
   "cell_type": "markdown",
   "metadata": {},
   "source": [
    "O modo pelo qual o computador calcula raízes é usando o Método de Newton com sucessivas aproximações, que diz que sempre que tivermos uma suposição y para a raiz quadrada de x podemos fazer as seguintes manipulações para chegarmos a uma suposição tão perto quanto quisermos do valor real da raiz:\n",
    " - faça o quociente x/y\n",
    " - pegue esse valor e faça a média dele com o y: [(y+(x/y))/2]\n",
    " - esse valor será o seu novo y, repita a operação até que a diferença entre seu \"novo y\" e \"velho y\" seja tão pequeno quanto você queira.                                                       "
   ]
  },
  {
   "cell_type": "code",
   "execution_count": 70,
   "metadata": {},
   "outputs": [
    {
     "name": "stderr",
     "output_type": "stream",
     "text": [
      "SIMPLE-STYLE-WARNING: \n",
      "  undefined function: GOOD-ENOUGH?\n",
      "\n",
      "SIMPLE-STYLE-WARNING: \n",
      "  undefined function: IMPROVE\n"
     ]
    },
    {
     "data": {
      "text/plain": [
       "SQRT-ITER"
      ]
     },
     "execution_count": 70,
     "metadata": {},
     "output_type": "execute_result"
    }
   ],
   "source": [
    "(defun sqrt-iter (guess x)\n",
    "    (if (good-enough? guess x)\n",
    "        guess\n",
    "        (sqrt-iter (improve guess x)\n",
    "                   x)))"
   ]
  },
  {
   "cell_type": "code",
   "execution_count": 71,
   "metadata": {},
   "outputs": [
    {
     "name": "stderr",
     "output_type": "stream",
     "text": [
      "UNDEFINED-FUNCTION: \n",
      "  #<UNDEFINED-FUNCTION GOOD-ENOUGH? {1004F3F073}>\n"
     ]
    },
    {
     "data": {
      "text/plain": [
       "NIL"
      ]
     },
     "execution_count": 71,
     "metadata": {},
     "output_type": "execute_result"
    }
   ],
   "source": [
    "(sqrt-iter 2.5 4)"
   ]
  },
  {
   "cell_type": "code",
   "execution_count": 72,
   "metadata": {},
   "outputs": [
    {
     "name": "stderr",
     "output_type": "stream",
     "text": [
      "SIMPLE-STYLE-WARNING: \n",
      "  undefined function: AVERAGE\n"
     ]
    },
    {
     "data": {
      "text/plain": [
       "IMPROVE"
      ]
     },
     "execution_count": 72,
     "metadata": {},
     "output_type": "execute_result"
    }
   ],
   "source": [
    "(defun improve (guess x)\n",
    "    (average guess (/ x guess)))"
   ]
  },
  {
   "cell_type": "code",
   "execution_count": 73,
   "metadata": {},
   "outputs": [
    {
     "data": {
      "text/plain": [
       "AVERAGE"
      ]
     },
     "execution_count": 73,
     "metadata": {},
     "output_type": "execute_result"
    }
   ],
   "source": [
    "(defun average (x y)\n",
    "    (/ (+ x y) 2))"
   ]
  },
  {
   "cell_type": "code",
   "execution_count": 74,
   "metadata": {},
   "outputs": [
    {
     "name": "stderr",
     "output_type": "stream",
     "text": [
      "REDEFINITION-WITH-DEFUN: \n",
      "  redefining CL-JUPYTER-USER::SQUARE in DEFUN\n"
     ]
    },
    {
     "data": {
      "text/plain": [
       "SQUARE"
      ]
     },
     "execution_count": 74,
     "metadata": {},
     "output_type": "execute_result"
    }
   ],
   "source": [
    "(defun square (c)\n",
    "    (* c c))"
   ]
  },
  {
   "cell_type": "code",
   "execution_count": 75,
   "metadata": {},
   "outputs": [
    {
     "name": "stderr",
     "output_type": "stream",
     "text": [
      "SIMPLE-WARNING: \n",
      "The function was called with two arguments, but wants exactly one.\n"
     ]
    },
    {
     "data": {
      "text/plain": [
       "GOOD-ENOUGH?"
      ]
     },
     "execution_count": 75,
     "metadata": {},
     "output_type": "execute_result"
    }
   ],
   "source": [
    "(defun good-enough? (guess x)\n",
    "    (< (abs (- (square guess) \n",
    "               x)\n",
    "            0.001)))"
   ]
  },
  {
   "cell_type": "code",
   "execution_count": 76,
   "metadata": {},
   "outputs": [
    {
     "name": "stderr",
     "output_type": "stream",
     "text": [
      "REDEFINITION-WITH-DEFUN: \n",
      "  redefining COMMON-LISP:SQRT in DEFUN\n",
      "\n",
      "SYMBOL-PACKAGE-LOCKED-ERROR: \n",
      "setting fdefinition of SQRT\n"
     ]
    },
    {
     "data": {
      "text/plain": [
       "NIL"
      ]
     },
     "execution_count": 76,
     "metadata": {},
     "output_type": "execute_result"
    }
   ],
   "source": [
    "(defun sqrt (x)\n",
    "    (sqrt-iter 1.0 x))"
   ]
  },
  {
   "cell_type": "code",
   "execution_count": 78,
   "metadata": {},
   "outputs": [
    {
     "data": {
      "text/plain": [
       "11.090536"
      ]
     },
     "execution_count": 78,
     "metadata": {},
     "output_type": "execute_result"
    }
   ],
   "source": [
    "(sqrt 123)"
   ]
  },
  {
   "cell_type": "code",
   "execution_count": 79,
   "metadata": {},
   "outputs": [
    {
     "data": {
      "text/plain": [
       "11.7046995"
      ]
     },
     "execution_count": 79,
     "metadata": {},
     "output_type": "execute_result"
    }
   ],
   "source": [
    "(sqrt (+ 100 37))"
   ]
  },
  {
   "cell_type": "markdown",
   "metadata": {},
   "source": [
    "#### Procedimentos como abstrações Caixa-preta (Seção 1.1.8 - pág. 26)"
   ]
  },
  {
   "cell_type": "markdown",
   "metadata": {},
   "source": [
    "Tomando como exemplo a função good-enough?, quando a definimos em termos de square, não estávamos preocupados em como a função square computaria o quadrado do número dado, mas sim que ela computaria o valor. Dessa forma, square passou de uma função para a abstração de um procedimento, qualquer procedimento que computa o quadrado seria igualmente útil.\n",
    "\n",
    "Levando em conta só o que a função retorna, temos duas formas de retornar o quadrado:"
   ]
  },
  {
   "cell_type": "code",
   "execution_count": 80,
   "metadata": {},
   "outputs": [
    {
     "data": {
      "text/plain": [
       "SQUARE1"
      ]
     },
     "execution_count": 80,
     "metadata": {},
     "output_type": "execute_result"
    }
   ],
   "source": [
    "(defun square1 (c)\n",
    "    (* c c))"
   ]
  },
  {
   "cell_type": "code",
   "execution_count": 89,
   "metadata": {},
   "outputs": [
    {
     "name": "stderr",
     "output_type": "stream",
     "text": [
      "REDEFINITION-WITH-DEFUN: \n",
      "  redefining CL-JUPYTER-USER::SQUARE2 in DEFUN\n"
     ]
    },
    {
     "data": {
      "text/plain": [
       "SQUARE2"
      ]
     },
     "execution_count": 89,
     "metadata": {},
     "output_type": "execute_result"
    }
   ],
   "source": [
    "(defun square2 (x)\n",
    "    (exp (double (log x))))"
   ]
  },
  {
   "cell_type": "markdown",
   "metadata": {},
   "source": [
    "E duas formas de retornar o dobro de um número,"
   ]
  },
  {
   "cell_type": "code",
   "execution_count": 82,
   "metadata": {},
   "outputs": [
    {
     "data": {
      "text/plain": [
       "DOUBLE"
      ]
     },
     "execution_count": 82,
     "metadata": {},
     "output_type": "execute_result"
    }
   ],
   "source": [
    "(defun double (x)\n",
    "    (* 2 x))"
   ]
  },
  {
   "cell_type": "code",
   "execution_count": 83,
   "metadata": {},
   "outputs": [
    {
     "data": {
      "text/plain": [
       "DOUBLE2"
      ]
     },
     "execution_count": 83,
     "metadata": {},
     "output_type": "execute_result"
    }
   ],
   "source": [
    "(defun double2 (x)\n",
    "    (+ x x))"
   ]
  },
  {
   "cell_type": "markdown",
   "metadata": {},
   "source": [
    "Dessa forma, a definição de um procedimento deve ser capaz de suprimir detalhes.\n",
    "\n",
    "##### Nomes locais:\n",
    "A escolha dos parâmetros deve ser independente do propósito do procedimento. Por exemplo, (defun double (x)(* 2 x)) deve ser a mesma coisa que (defun double (y) (* 2 y)), dessa forma eles serão parâmetros locais. Vamos ver que problemas podemos encontrar:\n",
    "\n",
    "                            (defun good-enough? (guess x)\n",
    "                                 (< (abs (- (square guess) \n",
    "                                             x)\n",
    "                                          0.001)))\n",
    "    \n",
    "No exemplo acima temos a função square dentro da definição da função good-enough? e todas recebem a variável x como parâmetro de entrada. Se as variáveis não forem locais no corpo da função, o x na função square poderia ter sido confundido com o x da good-enough? e o comportamento da good-enough? dependeria da versão do square que usamos. Square não seria a caixa-preta.\n",
    "\n",
    "Um parâmetro formal de um procedimento tem um papel muito especial na definição do procedimento, na medida em que não importa o nome do parâmetro formal. Esse nome é chamado de uma variável vinculada (bound variable), e dizemos que a definição de procedimento liga seus parâmetros formais. O significado de uma definição de procedimento é inalterado se uma variável vinculada for constantemente renomeada ao longo da definição. Se uma variável não está vinculada, dizemos que é free. O conjunto de expressões para o qual uma vinculação define um nome é chamado de escopo desse nome. Em uma definição de procedimento, as variáveis vinculadas declaradas como os parâmetros formais do procedimento têm o corpo do procedimento como seu escopo.\n",
    "\n",
    "##### Estuturando as funções em blocos de funções:\n",
    "\n",
    "Como vimos anteriormente, para definirmos a função sqrt tivemos que definir outras funções (sqrt-iter, good-enough? e improve). Entretanto, podemos fazer de outra forma, definindo blocos de funções:"
   ]
  },
  {
   "cell_type": "code",
   "execution_count": 90,
   "metadata": {},
   "outputs": [
    {
     "name": "stderr",
     "output_type": "stream",
     "text": [
      "REDEFINITION-WITH-DEFUN: \n",
      "  redefining COMMON-LISP:SQRT in DEFUN\n",
      "\n",
      "SYMBOL-PACKAGE-LOCKED-ERROR: \n",
      "setting fdefinition of SQRT\n"
     ]
    },
    {
     "data": {
      "text/plain": [
       "NIL"
      ]
     },
     "execution_count": 90,
     "metadata": {},
     "output_type": "execute_result"
    }
   ],
   "source": [
    "(defun sqrt (x)\n",
    "    (defun good-enough? (guess)\n",
    "        (< (abs (- (square guess) x)) 0.001))\n",
    "    (defun improve (guess)\n",
    "        (average guess (/ x guess)))\n",
    "    (defun sqrt-iter (guess)\n",
    "        (if (good-enough? guess)\n",
    "            guess\n",
    "            (sqrt-iter (improve guess))))\n",
    "    (sqrt-iter 1.0))\n"
   ]
  },
  {
   "cell_type": "markdown",
   "metadata": {},
   "source": [
    "Vamos usar a block structure extensivamente para nos ajudar a dividir grandes programas em peças. A idéia de estrutura de blocos é originada pela linguagem de programação Algol 60. Aparece na maioria das linguagens de programação avançadas e é uma ferramenta importante para ajudar a organizar a construção de grandes programas."
   ]
  },
  {
   "cell_type": "markdown",
   "metadata": {
    "collapsed": true
   },
   "source": [
    "#### Loops em CLisp"
   ]
  },
  {
   "cell_type": "code",
   "execution_count": 2,
   "metadata": {},
   "outputs": [
    {
     "name": "stderr",
     "output_type": "stream",
     "text": [
      "SIMPLE-WARNING: \n",
      "undefined variable: A\n"
     ]
    },
    {
     "data": {
      "text/plain": [
       "(A B C D E)"
      ]
     },
     "execution_count": 2,
     "metadata": {},
     "output_type": "execute_result"
    }
   ],
   "source": [
    "(setq a '(a b c d e))"
   ]
  },
  {
   "cell_type": "code",
   "execution_count": 3,
   "metadata": {},
   "outputs": [
    {
     "name": "stdout",
     "output_type": "stream",
     "text": [
      "\n",
      "A \n",
      "B \n",
      "C \n",
      "D \n",
      "E "
     ]
    },
    {
     "name": "stderr",
     "output_type": "stream",
     "text": [
      "SIMPLE-WARNING: \n",
      "undefined variable: A\n"
     ]
    },
    {
     "data": {
      "text/plain": [
       "NIL"
      ]
     },
     "execution_count": 3,
     "metadata": {},
     "output_type": "execute_result"
    }
   ],
   "source": [
    "(loop for x in a\n",
    "      do (print x))"
   ]
  },
  {
   "cell_type": "code",
   "execution_count": 6,
   "metadata": {},
   "outputs": [
    {
     "name": "stderr",
     "output_type": "stream",
     "text": [
      "SIMPLE-WARNING: \n",
      "undefined variable: LISTAVAZIA\n"
     ]
    },
    {
     "data": {
      "text/plain": [
       "NIL"
      ]
     },
     "execution_count": 6,
     "metadata": {},
     "output_type": "execute_result"
    }
   ],
   "source": [
    "(setq listavazia ())\n",
    "listavazia"
   ]
  },
  {
   "cell_type": "code",
   "execution_count": 8,
   "metadata": {},
   "outputs": [
    {
     "name": "stderr",
     "output_type": "stream",
     "text": [
      "SIMPLE-WARNING: \n",
      "undefined variable: LISTAVAZIA\n",
      "\n",
      "SIMPLE-WARNING: \n",
      "undefined variable: NOVALISTA\n"
     ]
    },
    {
     "data": {
      "text/plain": [
       "(1 2 3)"
      ]
     },
     "execution_count": 8,
     "metadata": {},
     "output_type": "execute_result"
    }
   ],
   "source": [
    "(setq novalista (append '(1 2 3) listavazia))\n",
    "novalista"
   ]
  },
  {
   "cell_type": "code",
   "execution_count": 9,
   "metadata": {},
   "outputs": [
    {
     "name": "stderr",
     "output_type": "stream",
     "text": [
      "SIMPLE-WARNING: \n",
      "undefined variable: NOVALISTA\n"
     ]
    },
    {
     "data": {
      "text/plain": [
       "(1 2 3 1 2 3)"
      ]
     },
     "execution_count": 9,
     "metadata": {},
     "output_type": "execute_result"
    }
   ],
   "source": [
    "(setq novalista (append '(1 2 3) novalista))\n",
    "novalista"
   ]
  },
  {
   "cell_type": "code",
   "execution_count": null,
   "metadata": {},
   "outputs": [],
   "source": []
  }
 ],
 "metadata": {
  "kernelspec": {
   "display_name": "SBCL Lisp",
   "language": "lisp",
   "name": "clisp"
  },
  "language_info": {
   "codemirror_mode": "text/x-common-lisp",
   "mimetype": "text/x-common-lisp",
   "name": "common-lisp",
   "pygments_lexer": "common-lisp",
   "version": "X3J13"
  }
 },
 "nbformat": 4,
 "nbformat_minor": 2
}
