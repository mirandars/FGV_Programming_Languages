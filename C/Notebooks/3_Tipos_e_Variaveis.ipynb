{
 "cells": [
  {
   "cell_type": "markdown",
   "metadata": {},
   "source": [
    "### Variáveis:\n",
    "\n",
    "Variável é um local reservado na memória para armazenar um tipo de dado. Toda variável precisa ter um identificador e um tipo, que determina o que ela é capaz de armazenar."
   ]
  },
  {
   "cell_type": "markdown",
   "metadata": {},
   "source": [
    "### Tipos de dados"
   ]
  },
  {
   "cell_type": "markdown",
   "metadata": {},
   "source": [
    "Os principais tipos numéricos são divididos em $\\textit{inteiro}$, que armazenam números inteiros, e $\\textit{real}$, que armazenam números com casas decimais (float).\n",
    "\n",
    "C possui vários tipos de dado, mas vamos começar pelos tipos básicos:\n",
    "\n",
    "- Integers: números inteiros que podem ser definidos usando $\\textit{char}$,$\\textit{int}$, $\\textit{short}$, $\\textit{long}$ ou $\\textit{long long}$;\n",
    "\n",
    "- Unsigned integers: inteiros positivos que podem ser definidos usando $\\textit{unsigned char}$, $\\textit{unsigned int}$, $\\textit{unsigned short}$, $\\textit{unsigned long}$ ou $\\textit{unsigned long long}$;\n",
    "\n",
    "- Float point: números reais que podem ser definidos usando $\\textit{float}$ e $\\textit{double}$\n",
    "\n",
    "- Structure: veremos separadamente nos próximos notebooks.\n",
    "\n",
    "$\\textbf{Obs.:}$ C não possui tipos booleanos e, normalmente, são definidos pela notação:"
   ]
  },
  {
   "cell_type": "code",
   "execution_count": null,
   "metadata": {},
   "outputs": [],
   "source": [
    "#define BOOL char\n",
    "#define FALSE 0\n",
    "#define TRUE 1"
   ]
  },
  {
   "cell_type": "markdown",
   "metadata": {},
   "source": [
    "#### Definindo Variáveis:\n",
    "Para os números, geralmente usaremos o tipo $\\textit{int}$, um número inteiro no tamanho de uma \"palavra\", o tamanho de número padrão da máquina em que seu programa é compilado. Na maioria dos computadores de hoje, é um número de 32 bits, o que significa que o número pode variar de -2.147.483.648 para 2.147.483.647."
   ]
  },
  {
   "cell_type": "markdown",
   "metadata": {},
   "source": [
    "Em C devemos listar primeiro o tipo, depois o nome da variável.\n",
    "\n",
    "$\\textbf{Sintaxe:}$ < TIPO > < NOME_DA_VARIÁVEL >\n",
    "\n",
    "Exemplo: \n",
    "                       \n",
    "                       int contador \n",
    "                       int: é o tipo da variável (inteiro)\n",
    "                       contador: é o nome da variável\n",
    "                       \n",
    "                       float salario\n",
    "                       float: é o tipo da variável (real)\n",
    "                       salario: é o nome da variável\n",
    "                       \n",
    "                       char nome\n",
    "                       char: é o tipo da variável (caracter)\n",
    "                       nome: é o nome da variável\n",
    "    "
   ]
  },
  {
   "cell_type": "markdown",
   "metadata": {},
   "source": [
    "### Regras de criação dos nomes:"
   ]
  },
  {
   "cell_type": "markdown",
   "metadata": {},
   "source": [
    "- O nome de uma variável deve sempre iniciar com uma letra ou _ , jamais deve iniciar com um número; \n",
    "- Utilize nomes representativos para as variáveis;\n",
    "- C é uma linguagem \"case sensitive\", isso quer dizer que letras maiúsculas e minúsculas são diferentes, pois são tratadas como caracteres diferentes.\n",
    "Atribuições são dadas a partir do uso de =."
   ]
  },
  {
   "cell_type": "markdown",
   "metadata": {},
   "source": [
    "Exemplo: Para definir variáveis $\\textit{foo}$ e $\\textit{bar}$ devemos usar a sintaxe:"
   ]
  },
  {
   "cell_type": "code",
   "execution_count": null,
   "metadata": {},
   "outputs": [],
   "source": [
    "int foo;\n",
    "int bar = 1;"
   ]
  },
  {
   "cell_type": "markdown",
   "metadata": {},
   "source": [
    "A variável foo pode ser usada, mas desde que não a inicializamos, não sabemos o que está nele. A barra de variáveis contém o número 1.\n",
    "\n",
    "Agora, podemos fazer algumas operações matemáticas. Supondo que a, b, c, d e e são variáveis, podemos usar simplesmente operadores +, - e * na seguinte notação e atribuir um novo valor a:"
   ]
  },
  {
   "cell_type": "code",
   "execution_count": null,
   "metadata": {},
   "outputs": [],
   "source": [
    "#include <stdio.h>\n",
    "\n",
    "int main() \n",
    "{\n",
    " \n",
    "int a = 0,b = 1,c = 2,d = 3, e = 4;\n",
    "a = b - c + d * e;\n",
    "printf(\"%d\", a); /* will print 1-2+3*4 = 11 */\n",
    "return 0;\n",
    "}"
   ]
  },
  {
   "cell_type": "code",
   "execution_count": null,
   "metadata": {},
   "outputs": [],
   "source": [
    "#include <stdio.h>\n",
    "\n",
    "int main() \n",
    "{\n",
    " \n",
    "int a = 0,b = 1,c = 2,d = 3, e = 4, g = 0;\n",
    "a = b - c + d * e;\n",
    "g = a+b+c;\n",
    "printf(\"%d\", g); /* will print 1-2+3*4 + 1 + 2 = 14 */\n",
    "return 0;\n",
    "}"
   ]
  },
  {
   "cell_type": "markdown",
   "metadata": {
    "collapsed": true
   },
   "source": [
    "Vejamos o formato específico para cada tipo de dado:\n",
    "\n",
    "                                    char,signed char, unsignate char | \"%c\"\n",
    "                       short,short int,signed short,signed short int | \"%hi\"\n",
    "                                   unsigned short,unsigned short int | \"%hu\"\n",
    "                                               int,signed,signed int | \"%i\" ou \"%d\"\n",
    "                                               unsigned,unsigned int | \"%u\"\n",
    "                           long,long int,signed long,signed long int | \"%li\"\n",
    "                                     unsigned long,unsigned long int | \"%lu\"\n",
    "       long long,long long int,signed long long,signed long long int | \"%lli\"\n",
    "                           unsigned long long,unsigned long long int | \"%llu\"\n",
    "                                                               float | \"%f\"\n",
    "                                                              double | \"%f\", \"%lf\" (scanf()),\"%g\" ou \"%e\"(notação científica)\n",
    "                                                         long double | %Lf, %LF, %Lg ou %Le  "
   ]
  },
  {
   "cell_type": "code",
   "execution_count": null,
   "metadata": {
    "collapsed": true
   },
   "outputs": [],
   "source": []
  }
 ],
 "metadata": {
  "kernelspec": {
   "display_name": "C",
   "language": "c",
   "name": "c"
  },
  "language_info": {
   "file_extension": ".c",
   "mimetype": "text/plain",
   "name": "c"
  }
 },
 "nbformat": 4,
 "nbformat_minor": 2
}
