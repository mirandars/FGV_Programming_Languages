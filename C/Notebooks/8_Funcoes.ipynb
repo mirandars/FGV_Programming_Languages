{
 "cells": [
  {
   "cell_type": "markdown",
   "metadata": {},
   "source": [
    "## Funções:"
   ]
  },
  {
   "cell_type": "markdown",
   "metadata": {},
   "source": [
    "##### Definição: \n",
    "Uma função nada mais é do que uma subrotina usada em um programa. Em C, denominamos função a um conjunto de comandos que realiza uma tarefa específica em um módulo dependente de código."
   ]
  },
  {
   "cell_type": "markdown",
   "metadata": {},
   "source": [
    "As funções C são simples, mas por causa de como C funciona, o poder das funções é um pouco limitado.\n",
    "\n",
    "- As funções recebem uma quantidade fixa ou variável de argumentos.\n",
    "- As funções só podem retornar um valor ou retornar nenhum valor.\n",
    "Em C, os argumentos são copiados por valor para funções, o que significa que não podemos alterar os argumentos para afetar seu valor fora da função. Para fazer isso, devemos usar ponteiros, que são ensinados mais tarde.\n",
    "\n",
    "As funções são definidas usando a seguinte sintaxe:"
   ]
  },
  {
   "cell_type": "markdown",
   "metadata": {},
   "source": [
    "Esqueleto da função:\n",
    "    \n",
    "                            tipo_de_retorno nome_da_função (listagem de parâmetros)\n",
    "                            {\n",
    "                               instruções;\n",
    "                               retorno_da_função;\n",
    "                            }"
   ]
  },
  {
   "cell_type": "code",
   "execution_count": 4,
   "metadata": {},
   "outputs": [
    {
     "name": "stderr",
     "output_type": "stream",
     "text": []
    },
    {
     "name": "stdout",
     "output_type": "stream",
     "text": [
      "2"
     ]
    }
   ],
   "source": [
    "#include <stdio.h>\n",
    "int foo(int bar) {\n",
    "return bar * 2;\n",
    "}\n",
    "\n",
    "int main() {\n",
    "int c = foo(1);\n",
    "printf(\"%d\",c)\n",
    ";\n",
    "}"
   ]
  },
  {
   "cell_type": "markdown",
   "metadata": {},
   "source": [
    "No exemplo acima temos a função foo que recebe um argumento, bar. A função recebe um número inteiro, o multiplica por dois e retorna o resultado.\n",
    "\n",
    "\n",
    "Em C, as funções devem ser definidas pela primeira vez antes de serem usadas no código. Elas podem ser declaradas primeiro e depois implementadas usando um arquivo de cabeçalho ou no início do arquivo C ou podem ser implementados na ordem em que são usados (menos preferível). A maneira correta de usar funções é a seguinte:"
   ]
  },
  {
   "cell_type": "code",
   "execution_count": 9,
   "metadata": {},
   "outputs": [
    {
     "name": "stderr",
     "output_type": "stream",
     "text": []
    },
    {
     "name": "stdout",
     "output_type": "stream",
     "text": [
      "The value of foo is 2"
     ]
    }
   ],
   "source": [
    "#include <stdio.h>\n",
    "/* declarando a função */\n",
    "int foo(int bar);\n",
    "\n",
    "int main() {\n",
    "    /* cchamando a função na main */\n",
    "    printf(\"The value of foo is %d\", foo(1));\n",
    "}\n",
    "\n",
    "int foo(int bar) {\n",
    "    return bar + 1;\n",
    "}"
   ]
  },
  {
   "cell_type": "markdown",
   "metadata": {},
   "source": [
    "Podemos, também, criar funções que não nos retornam valor usando a palavra-chave $\\textit{void}$. Veja o exemplo:"
   ]
  },
  {
   "cell_type": "code",
   "execution_count": 10,
   "metadata": {},
   "outputs": [
    {
     "name": "stderr",
     "output_type": "stream",
     "text": []
    },
    {
     "name": "stdout",
     "output_type": "stream",
     "text": []
    }
   ],
   "source": [
    "void moo() {\n",
    "    /* do something and don't return a value */\n",
    "}\n",
    "\n",
    "int main() {\n",
    "    moo();\n",
    "}"
   ]
  },
  {
   "cell_type": "markdown",
   "metadata": {},
   "source": [
    "#### Exemplo 1) Função Potência"
   ]
  },
  {
   "cell_type": "code",
   "execution_count": 10,
   "metadata": {},
   "outputs": [
    {
     "name": "stderr",
     "output_type": "stream",
     "text": []
    },
    {
     "name": "stdout",
     "output_type": "stream",
     "text": [
      "4"
     ]
    }
   ],
   "source": [
    "#include <stdio.h>\n",
    "long int potencia(int num1, int num2)\n",
    "{\n",
    "  unsigned int count;\n",
    "  long int total=num1;\n",
    "  for(count=1; count<num2; ++count)\n",
    "  {\n",
    "  total=total*num1;\n",
    "  }\n",
    "  return total;\n",
    "}\n",
    "int main()\n",
    "{\n",
    "printf(\"%li\", potencia(2,2));\n",
    "return 0;\n",
    "}"
   ]
  },
  {
   "cell_type": "markdown",
   "metadata": {},
   "source": [
    "#### Exemplo 2) Função raiz"
   ]
  },
  {
   "cell_type": "code",
   "execution_count": 13,
   "metadata": {},
   "outputs": [
    {
     "name": "stderr",
     "output_type": "stream",
     "text": []
    },
    {
     "name": "stdout",
     "output_type": "stream",
     "text": [
      "2.000000"
     ]
    }
   ],
   "source": [
    "#include <stdio.h>\n",
    "float raiz_quadrada (float numero)\n",
    "{\n",
    "int n;\n",
    " float recorre = numero;\n",
    " for (n = 0; n < 10; ++n)\n",
    " {\n",
    " recorre = recorre/2 + numero/(2*recorre);\n",
    " }\n",
    " return(recorre);\n",
    " }\n",
    " int main()\n",
    " {\n",
    " printf(\"%f\", raiz_quadrada(4));\n",
    " return 0;\n",
    " }"
   ]
  },
  {
   "cell_type": "markdown",
   "metadata": {},
   "source": [
    "#### Exemplo 3) Função fatorial"
   ]
  },
  {
   "cell_type": "code",
   "execution_count": 15,
   "metadata": {},
   "outputs": [
    {
     "name": "stderr",
     "output_type": "stream",
     "text": []
    },
    {
     "name": "stdout",
     "output_type": "stream",
     "text": [
      "120"
     ]
    }
   ],
   "source": [
    "#include <stdio.h>\n",
    "int fatorial (int n)\n",
    "{\n",
    "    int i=1,p=1;\n",
    "    for(i=1;i<=n;i++)\n",
    "    {\n",
    "        p=p*i;\n",
    "    }\n",
    "    return (p);\n",
    "}\n",
    "int main()\n",
    "{\n",
    "printf(\"%d\", fatorial(5));\n",
    "return 0;\n",
    "}"
   ]
  },
  {
   "cell_type": "markdown",
   "metadata": {},
   "source": [
    "#### Exemplo 4) Função combinação"
   ]
  },
  {
   "cell_type": "code",
   "execution_count": 18,
   "metadata": {},
   "outputs": [
    {
     "name": "stderr",
     "output_type": "stream",
     "text": [
      "/tmp/tmpyreejdfh.c: In function ‘combinacao’:\n",
      "/tmp/tmpyreejdfh.c:6:12: warning: implicit declaration of function ‘fatorial’ [-Wimplicit-function-declaration]\n",
      "     else c=fatorial(i)/(fatorial(j)*fatorial(i-j));\n",
      "            ^~~~~~~~\n"
     ]
    },
    {
     "name": "stdout",
     "output_type": "stream",
     "text": [
      "10"
     ]
    }
   ],
   "source": [
    "#include <stdio.h>\n",
    "int combinacao(int i, int j)\n",
    "{\n",
    "    int c;\n",
    "    if(j==0 || j==i) c=1;\n",
    "    else c=fatorial(i)/(fatorial(j)*fatorial(i-j));\n",
    "    return (c);\n",
    "}\n",
    "int fatorial (int n)\n",
    "{\n",
    "    int i=1,p=1;\n",
    "    for(i=1;i<=n;i++)\n",
    "    {\n",
    "        p=p*i;\n",
    "    }\n",
    "    return (p);\n",
    "}\n",
    "int main()\n",
    "{\n",
    "printf(\"%d\", combinacao(5,3));\n",
    "return 0;\n",
    "}"
   ]
  },
  {
   "cell_type": "markdown",
   "metadata": {},
   "source": [
    "### Exercício:\n",
    "\n",
    "escreva uma função $\\textit{print_big}$ que recebe um argumento (inteiro) e imprima a linha $\\textit{x is big}$ se o argumento passado é maior que 10.\n",
    "\n",
    "Importante: não esqueça de adicionar o \\n no final da string de printf."
   ]
  },
  {
   "cell_type": "markdown",
   "metadata": {
    "collapsed": true
   },
   "source": []
  }
 ],
 "metadata": {
  "kernelspec": {
   "display_name": "C",
   "language": "c",
   "name": "c"
  },
  "language_info": {
   "file_extension": "c",
   "mimetype": "text/plain",
   "name": "c"
  }
 },
 "nbformat": 4,
 "nbformat_minor": 2
}
