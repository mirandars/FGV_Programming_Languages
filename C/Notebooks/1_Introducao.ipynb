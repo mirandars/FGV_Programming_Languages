{
 "cells": [
  {
   "cell_type": "markdown",
   "metadata": {
    "collapsed": true
   },
   "source": [
    "## Introdução\n",
    "\n",
    "C é uma de programação de propósito geral que está estritamente relacionada com a forma como as máquinas funcionam. Entender como a memória do computador funciona é um aspecto importante da linguagem C. \n",
    "\n",
    "Embora seja considerada uma linguagem \"difícil de aprender\", C é de fato muito simples e com capacidades muito poderosas. \n",
    "\n",
    "C é uma linguagem compilada, o que significa que, para executá-la, o compilador deve assumir o código que escrevemos, processá-lo e, em seguida, criar um arquivo executável que poderá, então, ser executado e fazer o que foi programado.\n",
    "\n",
    "\n",
    "$\\textbf{Onde podemos encontrar C????}$\n",
    "\n",
    "C é uma linguagem muito comum e pode ser encontrada em várias aplicações como Windows, interpretador de Python, Git e muitos outros lugares."
   ]
  },
  {
   "cell_type": "markdown",
   "metadata": {},
   "source": [
    "$\\textbf{Vejamos algumas características da linguagem:}$\n",
    "\n",
    "- É uma linguagem simples, com funcionalidades não-essenciais, tais como funções matemáticas e manuseios de ficheiros, que são fornecidas por um conjunto de $\\textit{bibliotecas de rotinas}$ padronizadas;\n",
    "\n",
    "- Tem foco nos paradigmas de $\\textit{programação procedural}$;\n",
    "\n",
    "- Usa um $\\textit{sistema de tipos}$ simples que evita várias operações que não fazem sentido;\n",
    "\n",
    "- Uso de uma linguagem de $\\textit{pré-processamento}$ para tarefas tais como a definição de $\\textit{macros}$ e a inclusão de múltiplos ficheiros de $\\textit{código fonte}$.\n",
    "\n",
    "- $\\textit{Ponteiros}$ dão maior flexibilidade à linguagem;\n",
    "\n",
    "- Acesso de baixo nível através de inclusão de código Assembly no meio do programa C;\n",
    "\n",
    "- Parâmetros que são sempre passados por valor para as funções e nunca por referência;\n",
    "\n",
    "- Definição do alcance lexical de variáveis;\n",
    "\n",
    "- Estrutura de variáveis (structs) que permitem que dados relacionados sejam combinados e manipulados como um todo."
   ]
  },
  {
   "cell_type": "markdown",
   "metadata": {
    "collapsed": true
   },
   "source": [
    "Bibliografia:\n",
    "- https://en.wikipedia.org/wiki/C_standard_library\n",
    "- http://www.learn-c.org\n",
    "- http://linguagemc.com.br"
   ]
  },
  {
   "cell_type": "code",
   "execution_count": null,
   "metadata": {
    "collapsed": true
   },
   "outputs": [],
   "source": []
  }
 ],
 "metadata": {
  "kernelspec": {
   "display_name": "C",
   "language": "c",
   "name": "c"
  },
  "language_info": {
   "file_extension": ".c",
   "mimetype": "text/plain",
   "name": "c"
  }
 },
 "nbformat": 4,
 "nbformat_minor": 2
}
