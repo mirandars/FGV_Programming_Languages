{
 "cells": [
  {
   "cell_type": "code",
   "execution_count": 6,
   "metadata": {
    "collapsed": true
   },
   "outputs": [],
   "source": [
    "class Drone:\n",
    "    def __init__(self):\n",
    "        self.x = 0\n",
    "        self.y = 0\n",
    "        self.z = 0\n",
    "        self.bateria = 20 * 60\n",
    "        self.odometro_total = 0\n",
    "        self.odometro_parcial = 0\n",
    "        \n",
    "    def mostra_carga(self):\n",
    "        print('A carga da bateria e de {} segundos de voo'.format(self.bateria))\n",
    "        \n",
    "    def carrega_bateria (self):\n",
    "        self.mostra_carga()\n",
    "        print ('Bateria sendo carregada...')\n",
    "        self.bateria = 20 * 60\n",
    "        self.odometro_parcial = 0\n",
    "        \n",
    "    def mostra_coordenada(self):\n",
    "        print('O Drone se encontra em: \\nX:\\t{}\\nY:\\t{}\\nZ:\\t{}'.format(self.x, self.y, self.z))\n",
    "        print('O drone andou {} metros no total'.format(self.x, self.y, self.z))\n",
    "        print('O Drone andou {:.3f} metros ')\n",
    "        \n",
    "    def voar_para(self, x, y):\n",
    "        distancia = ( (x-self.x)**2 + (y-self.y)**2 )**0.5\n",
    "        tempo_de_voo = 20 + distancia/2 + 20\n",
    "        print('O tempo de vôo estimado é de {:.3f} segundos'.format(tempo_de_voo))\n",
    "        if self.bateria >= tempo_de_voo:\n",
    "            self.x = x\n",
    "            self.y = y\n",
    "            self.bateria -= tempo_de_novo\n",
    "            self.odometro_total += distancia\n",
    "            self.odometro_parcial += distancia\n",
    "            self.mostra_coordenada()\n",
    "        else:\n",
    "            print('A bateria não é suficiente para tal vôo')\n",
    "        "
   ]
  },
  {
   "cell_type": "code",
   "execution_count": 9,
   "metadata": {
    "collapsed": true
   },
   "outputs": [],
   "source": [
    "my_drone = Drone()"
   ]
  },
  {
   "cell_type": "code",
   "execution_count": 10,
   "metadata": {},
   "outputs": [
    {
     "name": "stdout",
     "output_type": "stream",
     "text": [
      "A carga da bateria e de 1200 segundos de voo\n"
     ]
    }
   ],
   "source": [
    "my_drone.mostra_carga()"
   ]
  },
  {
   "cell_type": "code",
   "execution_count": null,
   "metadata": {
    "collapsed": true
   },
   "outputs": [],
   "source": [
    "my_drone.mostra_carga()"
   ]
  }
 ],
 "metadata": {
  "kernelspec": {
   "display_name": "Python 3",
   "language": "python",
   "name": "python3"
  },
  "language_info": {
   "codemirror_mode": {
    "name": "ipython",
    "version": 3
   },
   "file_extension": ".py",
   "mimetype": "text/x-python",
   "name": "python",
   "nbconvert_exporter": "python",
   "pygments_lexer": "ipython3",
   "version": "3.5.2+"
  }
 },
 "nbformat": 4,
 "nbformat_minor": 2
}
