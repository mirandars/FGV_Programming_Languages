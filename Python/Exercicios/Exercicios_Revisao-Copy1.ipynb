{
 "cells": [
  {
   "cell_type": "markdown",
   "metadata": {},
   "source": [
    "Exercícios de Revisão\n",
    "--\n",
    "Professor: Renato Rocha Souza  \n",
    "--"
   ]
  },
  {
   "cell_type": "code",
   "execution_count": 2,
   "metadata": {},
   "outputs": [],
   "source": [
    "import itertools\n",
    "import random\n",
    "import numpy as np\n",
    "import matplotlib.pyplot as plt\n",
    "import urllib\n",
    "import pandas as pd"
   ]
  },
  {
   "cell_type": "markdown",
   "metadata": {},
   "source": [
    "Vamos testar se o módulo “random” gera mesmo números aleatórios?   \n",
    "Escreva uma função que sorteie 10000 números de 1 a 10 e crie um gráfico (histograma) com a frequência de ocorrência de cada um deles.  "
   ]
  },
  {
   "cell_type": "code",
   "execution_count": 6,
   "metadata": {},
   "outputs": [
    {
     "data": {
      "image/png": "[encoded data removed]",
      "text/plain": [
       "<matplotlib.figure.Figure at 0x7f447f09ea58>"
      ]
     },
     "metadata": {},
     "output_type": "display_data"
    }
   ],
   "source": [
    "num = np.random.randint(0, 10, 10000)\n",
    "\n",
    "plt.hist(num)\n",
    "plt.show()"
   ]
  },
  {
   "cell_type": "markdown",
   "metadata": {
    "collapsed": true
   },
   "source": [
    "Com uma linguagem de programação como Python, podemos manipular e visualizar dados numéricos.   \n",
    "- Escreva uma função que gere uma lista com os n primeiros números primos.  \n",
    "- Escreva uma função que gere uma lista com os n primeiros números da sequência de fibonacci  \n",
    "- Escreva uma função que receba n listas de números e “plote” estas sequências em um único gráfico.  "
   ]
  },
  {
   "cell_type": "code",
   "execution_count": null,
   "metadata": {
    "collapsed": true
   },
   "outputs": [],
   "source": []
  },
  {
   "cell_type": "code",
   "execution_count": null,
   "metadata": {
    "collapsed": true
   },
   "outputs": [],
   "source": []
  },
  {
   "cell_type": "code",
   "execution_count": null,
   "metadata": {
    "collapsed": true
   },
   "outputs": [],
   "source": []
  },
  {
   "cell_type": "markdown",
   "metadata": {},
   "source": [
    "Implemente funções em Python que tenham as mesmas funcionalidade dos comandos “zip”, \"map\" e \"reduce\""
   ]
  },
  {
   "cell_type": "code",
   "execution_count": null,
   "metadata": {
    "collapsed": true
   },
   "outputs": [],
   "source": []
  },
  {
   "cell_type": "markdown",
   "metadata": {},
   "source": [
    "Escreva uma função em Python que receba uma string e devolva quatro listas: uma com as palavras em minúsculas, outra com as palavras todas em maiúsculas, uma com as palavras que comecem em maiúsculas, e outra com o que não se encaixar nas listas anteriores."
   ]
  },
  {
   "cell_type": "code",
   "execution_count": null,
   "metadata": {
    "collapsed": true
   },
   "outputs": [],
   "source": []
  },
  {
   "cell_type": "markdown",
   "metadata": {},
   "source": [
    "Escreva a sequência de comandos para extrair as palavras que que se iniciem com maiúsculas de uma string utilizando no processo a função “filter”. O resultado deve ser uma lista."
   ]
  },
  {
   "cell_type": "code",
   "execution_count": null,
   "metadata": {
    "collapsed": true
   },
   "outputs": [],
   "source": []
  },
  {
   "cell_type": "markdown",
   "metadata": {},
   "source": [
    "Uma das tarefas mais comuns no tratamento de dados não estruturados é a extração de informações em textos. Escreva uma função chamada “freqdist” que receba uma string e retorne um dicionário que contenha as palavras como chaves e suas frequências de ocorrência como valores. Use apenas a biblioteca padrão do Python."
   ]
  },
  {
   "cell_type": "code",
   "execution_count": null,
   "metadata": {
    "collapsed": true
   },
   "outputs": [],
   "source": []
  },
  {
   "cell_type": "markdown",
   "metadata": {},
   "source": [
    "Uma técnica muito comum no estudo de linguagem natural é eliminar as palavras mais frequentes que não agregam muito ao texto, para \"limpar\" as análises; essas palavras são chamadas de \"stopwords\".  \n",
    "\n",
    "Crie uma função chamada “remove_stopwords”que recebe um dicionário como o retornado pela função “freqdist”e uma lista de palavras a serem removidas e retorna um novo dicionário, com as devidas palavras removidas.  \n",
    "Por exemplo:  \n",
    "\n",
    "    distribuicao_de_frequencia = {u'Era': 1, u'casa': 1, u'engra\\xe7ada': 1,  u'muito': 1, u'nada': 1, u'n\\xe3o': 2,\n",
    "                                  u'teto': 1, u'tinha': 2, u'uma': 1}\n",
    "    stopwords = [u'não', u'de', u'em', u'um', u'uma', u'para']\n",
    "    nova_freqdist = remove_stopwords(distribuicao_de_frequencia, stopwords)\n",
    "    print nova_freqdist\n",
    "    {u'casa': 1, u'engra\\xe7ada': 1, u'era': 1, u'muito': 1, u'nada': 1, u'teto': 1, u'tinha': 2}\n",
    "    \n",
    "Nota: sua função não deve alterar o dicionário recebido! Ela deve retornar um novo dicionário com as palavras desejadas."
   ]
  },
  {
   "cell_type": "code",
   "execution_count": null,
   "metadata": {
    "collapsed": true
   },
   "outputs": [],
   "source": []
  },
  {
   "cell_type": "markdown",
   "metadata": {},
   "source": [
    "Escreva uma função (ou conjunto de funções) que extraiam todos os links iniciados por http:\\\\ de uma página web (recebida como uma string)."
   ]
  },
  {
   "cell_type": "code",
   "execution_count": null,
   "metadata": {
    "collapsed": true
   },
   "outputs": [],
   "source": []
  },
  {
   "cell_type": "markdown",
   "metadata": {},
   "source": [
    "Escreva uma função (ou conjunto de funções) que extraia(m) todos os endereços de e-mail de uma página web (passada como parâmetro) e os devolva em uma lista. Considere apenas e-mails:  \n",
    "- De domínios do Brasil ('.br') ou;  \n",
    "- De domínios de alto nível originais ('.com', '.org', '.net', '.int', '.edu', '.gov', '.mil')."
   ]
  },
  {
   "cell_type": "code",
   "execution_count": null,
   "metadata": {
    "collapsed": true
   },
   "outputs": [],
   "source": []
  },
  {
   "cell_type": "markdown",
   "metadata": {},
   "source": [
    "Escreva uma função que extraia todos os links da url abaixo. Aplique a função do item a) a cada uma delas."
   ]
  },
  {
   "cell_type": "code",
   "execution_count": 5,
   "metadata": {
    "collapsed": true
   },
   "outputs": [],
   "source": [
    "baseurl = 'http://ppgci.eci.ufmg.br/pessoas/professores/permanentes'"
   ]
  },
  {
   "cell_type": "code",
   "execution_count": null,
   "metadata": {
    "collapsed": true
   },
   "outputs": [],
   "source": []
  },
  {
   "cell_type": "markdown",
   "metadata": {},
   "source": [
    "Escreva uma função que possua o mesmo comportamento do gerador (x**2 for x in range(100))"
   ]
  },
  {
   "cell_type": "code",
   "execution_count": null,
   "metadata": {
    "collapsed": true
   },
   "outputs": [],
   "source": []
  },
  {
   "cell_type": "markdown",
   "metadata": {},
   "source": [
    "Uma progressão aritmética (PA) é um sequência numérica em que cada termo, a partir do segundo, é igual à soma do termo anterior com uma constante R positiva (denominada razão).  \n",
    "\n",
    "A fórmula geral de uma PA é:  $an = a1 + (n - 1) * R$    \n",
    "\n",
    "Escreva uma função que receba uma lista com um conjunto de números inteiros positivos, identifique todos os subconjuntos de no mínimo 3 elementos desta lista onde os números formem uma progressão aritmética. Devem ser apresentados sempre os maiores subconjuntos que formem uma PA. Por exemplo, dado a lista [1,2,3,5,6,7,9] teríamos como resultado:  \n",
    "\n",
    "[[1,2,3], [5,6,7], [1,3,5,7,9], [3,6,9], [1,5,9]]  \n",
    "\n",
    "Note que, por exemplo, a sequência [1,3,5] não deve ser apresentada, porque já faz parte de [1,3,5,7,9].  "
   ]
  },
  {
   "cell_type": "code",
   "execution_count": null,
   "metadata": {
    "collapsed": true
   },
   "outputs": [],
   "source": []
  },
  {
   "cell_type": "markdown",
   "metadata": {},
   "source": [
    "Na primeira prova, manipulamos textos usando Shell do linux.  \n",
    "Implemente no Python funções para ler um arquivo e:  \n",
    "- Contar a quantidade de palavras que começam com letras maiúsculas;  \n",
    "- Contar quantas palavras contém sequências de três vogais (tritongos);  \n",
    "- Salvar no arquivo “resultados.txt” as linhas que começam e terminam com uma não vogal."
   ]
  },
  {
   "cell_type": "code",
   "execution_count": null,
   "metadata": {
    "collapsed": true
   },
   "outputs": [],
   "source": []
  },
  {
   "cell_type": "markdown",
   "metadata": {},
   "source": [
    "Implemente em Python uma classe chamada “Navio” com as seguintes propriedades:  \n",
    "- Quando instanciado, tem o tanque cheio e está nas coordenadas 0,0.  \n",
    "- Possui um tanque de diesel com capacidade de 600.000 litros.  \n",
    "- Consome 13.700 litros por hora, numa velocidade de 37 Km/h.  \n",
    "- Possui o metodo “navegar”, que recebe as coordenadas de destino. Esse método calcula a distância a navegar e avalia se o navio possui combustível para chegar nestas coordenadas.  \n",
    "- Possui métodos para encher o tanque, dizer a autonomia, retornar o total de km navegados desde que encheu o tanque e desde que foi instanciado.  \n",
    "\n",
    "OBS: Considere que um grau de latitude, que sempre corresponde a uma distância de 111,12 Km. Embora não seja verdade, considere que um grau de longitude corresponde à mesma distância.  "
   ]
  },
  {
   "cell_type": "code",
   "execution_count": null,
   "metadata": {
    "collapsed": true
   },
   "outputs": [],
   "source": []
  },
  {
   "cell_type": "markdown",
   "metadata": {},
   "source": [
    "Você sabe jogar pôquer? Vamos criar um jogo virtual...  \n",
    "a) Crie uma classe chamada “Baralho”, com as cartas dos naipes de Paus, Copas, Ouros e Espadas, cada naipe possuindo cartas que variam de 1 a 13.  \n",
    "Esta classe deve possuir o método “embaralhar”. Quando instanciado, o baralho deve gerar chamar este método, gerando uma uma ordem aleatória para estas 52 cartas.  \n",
    "\n",
    "Dica: gerar um baralho com o comando [str(x)+str(y) for x,y in list(itertools.product('PCOE',range(1,14)))]  \n",
    "\n",
    "b) Crie uma classe chamada “Jogador”, que seja iniciada com cinco cartas, e retorne o valor da “mão” (veja a primeira coluna da tabela a seguir)  \n",
    "\n",
    "c) Crie uma classe chamada “Jogo”, que recebe uma instância de Baralho e $n$ instâncias de jogador. Esta classe deve ser capaz de:  \n",
    "\n",
    "- Distribuir cartas de um baralho embaralhado para $n$ jogadores, 5 cartas para cada um e;  \n",
    "- Anunciar o ganhador da rodada (aquele com o maior número no valor da mão).  \n",
    "\n",
    "A hierarquia de “mãos” do pôquer é a seguinte (todos os naipes possuem o mesmo valor):"
   ]
  },
  {
   "cell_type": "code",
   "execution_count": 3,
   "metadata": {},
   "outputs": [
    {
     "data": {
      "text/html": [
       "<div>\n",
       "<table border=\"1\" class=\"dataframe\">\n",
       "  <thead>\n",
       "    <tr style=\"text-align: right;\">\n",
       "      <th></th>\n",
       "      <th>Nome da Jogada</th>\n",
       "      <th>Descrição</th>\n",
       "      <th>Combinações possíveis</th>\n",
       "    </tr>\n",
       "  </thead>\n",
       "  <tbody>\n",
       "    <tr>\n",
       "      <th>0</th>\n",
       "      <td>Royal Straight Flush</td>\n",
       "      <td>5 cartas seguidas do mesmo naipe até o Ás</td>\n",
       "      <td>4</td>\n",
       "    </tr>\n",
       "    <tr>\n",
       "      <th>1</th>\n",
       "      <td>Straight Flush</td>\n",
       "      <td>5 cartas seguidas do mesmo naipe que não seja ...</td>\n",
       "      <td>36</td>\n",
       "    </tr>\n",
       "    <tr>\n",
       "      <th>2</th>\n",
       "      <td>Four of a kind</td>\n",
       "      <td>Quatro cartas iguais</td>\n",
       "      <td>624</td>\n",
       "    </tr>\n",
       "    <tr>\n",
       "      <th>3</th>\n",
       "      <td>Full House</td>\n",
       "      <td>Uma trinca e um par</td>\n",
       "      <td>3744</td>\n",
       "    </tr>\n",
       "    <tr>\n",
       "      <th>4</th>\n",
       "      <td>Flush</td>\n",
       "      <td>5 cartas do mesmo naipe não seguidas</td>\n",
       "      <td>5108</td>\n",
       "    </tr>\n",
       "    <tr>\n",
       "      <th>5</th>\n",
       "      <td>Straight</td>\n",
       "      <td>5 cartas seguidas de naipes diferentes</td>\n",
       "      <td>10200</td>\n",
       "    </tr>\n",
       "    <tr>\n",
       "      <th>6</th>\n",
       "      <td>Three of a kind</td>\n",
       "      <td>3 cartas iguais</td>\n",
       "      <td>54912</td>\n",
       "    </tr>\n",
       "    <tr>\n",
       "      <th>7</th>\n",
       "      <td>Two Pairs</td>\n",
       "      <td>2 pares de cartas</td>\n",
       "      <td>123552</td>\n",
       "    </tr>\n",
       "    <tr>\n",
       "      <th>8</th>\n",
       "      <td>One Pair</td>\n",
       "      <td>2 cartas iguais</td>\n",
       "      <td>1098240</td>\n",
       "    </tr>\n",
       "    <tr>\n",
       "      <th>9</th>\n",
       "      <td>High Card</td>\n",
       "      <td>Ganha quem tiver a carta mais alta</td>\n",
       "      <td>1302540</td>\n",
       "    </tr>\n",
       "  </tbody>\n",
       "</table>\n",
       "</div>"
      ],
      "text/plain": [
       "         Nome da Jogada                                          Descrição  \\\n",
       "0  Royal Straight Flush          5 cartas seguidas do mesmo naipe até o Ás   \n",
       "1        Straight Flush  5 cartas seguidas do mesmo naipe que não seja ...   \n",
       "2        Four of a kind                               Quatro cartas iguais   \n",
       "3            Full House                                Uma trinca e um par   \n",
       "4                 Flush               5 cartas do mesmo naipe não seguidas   \n",
       "5              Straight             5 cartas seguidas de naipes diferentes   \n",
       "6       Three of a kind                                    3 cartas iguais   \n",
       "7             Two Pairs                                  2 pares de cartas   \n",
       "8              One Pair                                    2 cartas iguais   \n",
       "9             High Card                 Ganha quem tiver a carta mais alta   \n",
       "\n",
       "   Combinações possíveis  \n",
       "0                      4  \n",
       "1                     36  \n",
       "2                    624  \n",
       "3                   3744  \n",
       "4                   5108  \n",
       "5                  10200  \n",
       "6                  54912  \n",
       "7                 123552  \n",
       "8                1098240  \n",
       "9                1302540  "
      ]
     },
     "execution_count": 3,
     "metadata": {},
     "output_type": "execute_result"
    }
   ],
   "source": [
    "nomes = {'Nome da Jogada':['Royal Straight Flush',\n",
    "                           'Straight Flush',\n",
    "                           'Four of a kind',\n",
    "                           'Full House',\n",
    "                           'Flush',\n",
    "                           'Straight',\n",
    "                           'Three of a kind',\n",
    "                           'Two Pairs',\n",
    "                           'One Pair',\n",
    "                           'High Card'],\n",
    "         u'Descrição':[u'5 cartas seguidas do mesmo naipe até o Ás', \n",
    "                      u'5 cartas seguidas do mesmo naipe que não seja até ao Ás',\n",
    "                      u'Quatro cartas iguais',\n",
    "                      u'Uma trinca e um par',\n",
    "                      u'5 cartas do mesmo naipe não seguidas',\n",
    "                      u'5 cartas seguidas de naipes diferentes',\n",
    "                      u'3 cartas iguais',\n",
    "                      u'2 pares de cartas',\n",
    "                      u'2 cartas iguais',\n",
    "                      u'Ganha quem tiver a carta mais alta'],\n",
    "         u'Combinações possíveis':[4,36,624,3744,5108,10200,54912,123552,1098240,1302540]}\n",
    "\n",
    "df = pd.DataFrame(nomes, columns=[u'Nome da Jogada',u'Descrição',u'Combinações possíveis'])\n",
    "df"
   ]
  },
  {
   "cell_type": "code",
   "execution_count": 5,
   "metadata": {
    "collapsed": true
   },
   "outputs": [],
   "source": [
    "cartas = [str(x)+str(y) for x,y in list(itertools.product('PCOE',range(1,14)))]"
   ]
  },
  {
   "cell_type": "code",
   "execution_count": null,
   "metadata": {
    "collapsed": true
   },
   "outputs": [],
   "source": []
  }
 ],
 "metadata": {
  "kernelspec": {
   "display_name": "Python 3",
   "language": "python",
   "name": "python3"
  },
  "language_info": {
   "codemirror_mode": {
    "name": "ipython",
    "version": 3
   },
   "file_extension": ".py",
   "mimetype": "text/x-python",
   "name": "python",
   "nbconvert_exporter": "python",
   "pygments_lexer": "ipython3",
   "version": "3.5.2+"
  }
 },
 "nbformat": 4,
 "nbformat_minor": 1
}
