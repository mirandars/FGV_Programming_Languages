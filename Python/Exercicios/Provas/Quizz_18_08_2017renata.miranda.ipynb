{
 "cells": [
  {
   "cell_type": "markdown",
   "metadata": {},
   "source": [
    "1 - Dada a lista:"
   ]
  },
  {
   "cell_type": "code",
   "execution_count": 12,
   "metadata": {
    "collapsed": true
   },
   "outputs": [],
   "source": [
    "lista = [1,2,3,'4',5,6.3,7.4 + 2j,\"123\",[1,2,3], 93, \"98\"]"
   ]
  },
  {
   "cell_type": "markdown",
   "metadata": {},
   "source": [
    "Crie um código para imprimir o antecessor e o sucessor de cada elemento de uma lista:\n",
    "+ Caso este elemento seja inteiro, imprimir o valor;  \n",
    "+ Caso seja uma string, imprimir o inteiro correspondente;  \n",
    "+ Caso seja um real, imprima a parte inteira;\n",
    "+ Caso seja um imaginário, imprima a parte inteira e real;\n",
    "+ Caso seja uma sequência, seguie as regras acima para cada elemento da sequência.  "
   ]
  },
  {
   "cell_type": "code",
   "execution_count": 13,
   "metadata": {},
   "outputs": [
    {
     "name": "stdout",
     "output_type": "stream",
     "text": [
      "[0, 2, 1, 3, 2, 4, 3, 5, 4, 6, 5, 7, 6.4, 8.4, 122, 124, 92, 94, 97, 99]\n"
     ]
    }
   ],
   "source": [
    "lista2 = []\n",
    "for valor in lista:\n",
    "    if type(valor) == int:\n",
    "        lista2.append(valor - 1)\n",
    "        lista2.append(valor + 1)\n",
    "    elif type(valor) == str or type(valor) == float:\n",
    "        lista2.append(int(valor) - 1)\n",
    "        lista2.append(int(valor) + 1)\n",
    "    elif type(valor) == complex :\n",
    "        lista2.append(valor.real - 1)\n",
    "        lista2.append(valor.real + 1)\n",
    "    elif type(valor) == list:\n",
    "        for k in valor:\n",
    "            if type(valor) == int:\n",
    "                lista2.append(valor - 1)\n",
    "                lista2.append(valor + 1)\n",
    "            elif type(valor) == str or type(valor) == float:\n",
    "                lista2.append(int(valor) - 1)\n",
    "                lista2.append(int(valor) + 1)\n",
    "            elif type(valor) == complex :\n",
    "                lista2.append(valor.real - 1)\n",
    "                lista2.append(valor.real + 1)\n",
    "print(lista2)\n",
    "        "
   ]
  },
  {
   "cell_type": "markdown",
   "metadata": {},
   "source": [
    "2 - Os fatores primos de 13195 são 5, 7, 13 e 29. Qual o maior fator primo de 600851475143?  \n",
    "https://projecteuler.net/problem=3  "
   ]
  },
  {
   "cell_type": "code",
   "execution_count": 16,
   "metadata": {},
   "outputs": [
    {
     "data": {
      "text/plain": [
       "[]"
      ]
     },
     "execution_count": 16,
     "metadata": {},
     "output_type": "execute_result"
    }
   ],
   "source": [
    "primos = []\n",
    "lista = list(range(2, 10000))\n",
    "for i in range(2, 10000):\n",
    "    k = True\n",
    "    for j in range(2, i):\n",
    "        if i%j==0:\n",
    "            k = False\n",
    "    if k:\n",
    "        primos.append(i)"
   ]
  },
  {
   "cell_type": "markdown",
   "metadata": {},
   "source": [
    "3- Crie um programa que imprima os números de 1 a 100, mas nos múltiplos de 3 imprima “Fizz” em vez do  número e nos múltiplos de 5 imprima “Buzz”. Para os números que são múltiplos de tanto 3 como 5, imprima “FizzBuzz”.  "
   ]
  },
  {
   "cell_type": "code",
   "execution_count": 1,
   "metadata": {},
   "outputs": [
    {
     "name": "stdout",
     "output_type": "stream",
     "text": [
      "[1, 2, 'Fizz', 4, 'buzz', 'Fizz', 7, 8, 'Fizz', 'buzz', 11, 'Fizz', 13, 14, 'FizzBuzz', 16, 17, 'Fizz', 19, 'buzz', 'Fizz', 22, 23, 'Fizz', 'buzz', 26, 'Fizz', 28, 29, 'FizzBuzz', 31, 32, 'Fizz', 34, 'buzz', 'Fizz', 37, 38, 'Fizz', 'buzz', 41, 'Fizz', 43, 44, 'FizzBuzz', 46, 47, 'Fizz', 49, 'buzz', 'Fizz', 52, 53, 'Fizz', 'buzz', 56, 'Fizz', 58, 59, 'FizzBuzz', 61, 62, 'Fizz', 64, 'buzz', 'Fizz', 67, 68, 'Fizz', 'buzz', 71, 'Fizz', 73, 74, 'FizzBuzz', 76, 77, 'Fizz', 79, 'buzz', 'Fizz', 82, 83, 'Fizz', 'buzz', 86, 'Fizz', 88, 89, 'FizzBuzz', 91, 92, 'Fizz', 94, 'buzz', 'Fizz', 97, 98, 'Fizz']\n"
     ]
    }
   ],
   "source": [
    "lista = [1]\n",
    "for inteiro in range(2,100):\n",
    "    if inteiro % 3 == 0 and inteiro % 5 == 0:\n",
    "        lista.append(\"FizzBuzz\")\n",
    "    elif inteiro % 3 == 0:\n",
    "        lista.append(\"Fizz\")\n",
    "    elif inteiro % 5 ==0:\n",
    "        lista.append(\"buzz\")\n",
    "    else:\n",
    "        lista.append(inteiro)\n",
    "            \n",
    "print(lista)\n",
    "       \n",
    "    "
   ]
  },
  {
   "cell_type": "markdown",
   "metadata": {},
   "source": [
    "4- Usando a biblioteca \"random\", crie um programa para calcular a média da soma de dois dados de 6 faces (D6) em 10000 lançamentos."
   ]
  },
  {
   "cell_type": "code",
   "execution_count": 19,
   "metadata": {
    "collapsed": true
   },
   "outputs": [],
   "source": [
    "import random"
   ]
  },
  {
   "cell_type": "code",
   "execution_count": 24,
   "metadata": {},
   "outputs": [
    {
     "name": "stdout",
     "output_type": "stream",
     "text": [
      "5.868\n"
     ]
    }
   ],
   "source": [
    "soma=0\n",
    "for lance in range(1,1000):\n",
    "    soma = soma + random.randrange(1,6) + random.randrange(1,6)\n",
    "print(soma/1000)    \n"
   ]
  },
  {
   "cell_type": "code",
   "execution_count": null,
   "metadata": {
    "collapsed": true
   },
   "outputs": [],
   "source": []
  }
 ],
 "metadata": {
  "kernelspec": {
   "display_name": "Python 3",
   "language": "python",
   "name": "python3"
  },
  "language_info": {
   "codemirror_mode": {
    "name": "ipython",
    "version": 3
   },
   "file_extension": ".py",
   "mimetype": "text/x-python",
   "name": "python",
   "nbconvert_exporter": "python",
   "pygments_lexer": "ipython3",
   "version": "3.5.2+"
  }
 },
 "nbformat": 4,
 "nbformat_minor": 2
}
