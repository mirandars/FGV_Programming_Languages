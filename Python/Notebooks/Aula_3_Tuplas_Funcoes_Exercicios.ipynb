{
 "cells": [
  {
   "cell_type": "markdown",
   "metadata": {},
   "source": [
    "FGV - Escola de Matemática Aplicada\n",
    "==\n",
    "Curso de Verão - Introdução à Programação com a Linguagem Python\n",
    "--"
   ]
  },
  {
   "cell_type": "markdown",
   "metadata": {},
   "source": [
    "### Empacotamento e desempacotamento de tuplas"
   ]
  },
  {
   "cell_type": "code",
   "execution_count": 14,
   "metadata": {},
   "outputs": [
    {
     "name": "stdout",
     "output_type": "stream",
     "text": [
      "<class 'int'>\n",
      "<class 'tuple'>\n"
     ]
    }
   ],
   "source": [
    "tupla_falsa = (1)\n",
    "tupla_verdadeira = (1,)\n",
    "print(type(tupla_falsa))\n",
    "print(type(tupla_verdadeira))"
   ]
  },
  {
   "cell_type": "markdown",
   "metadata": {},
   "source": [
    "Acessando cada elemento da tupla"
   ]
  },
  {
   "cell_type": "code",
   "execution_count": 23,
   "metadata": {},
   "outputs": [
    {
     "name": "stdout",
     "output_type": "stream",
     "text": [
      "19\n",
      "10\n"
     ]
    }
   ],
   "source": [
    "x, y = 10, 19 #Relembrando como declarar as variáveis em uma linha\n",
    "print(y)\n",
    "print(x)"
   ]
  },
  {
   "cell_type": "code",
   "execution_count": 22,
   "metadata": {},
   "outputs": [
    {
     "name": "stdout",
     "output_type": "stream",
     "text": [
      "(2, 3, 4)\n",
      "2\n",
      "3\n",
      "4\n"
     ]
    }
   ],
   "source": [
    "t = (2,3,4)\n",
    "x,y,z = t\n",
    "print(t)\n",
    "print(x)\n",
    "print(y)\n",
    "print(z)"
   ]
  },
  {
   "cell_type": "code",
   "execution_count": 37,
   "metadata": {},
   "outputs": [
    {
     "name": "stdout",
     "output_type": "stream",
     "text": [
      "1\n",
      "[2, 3]\n",
      "4\n"
     ]
    }
   ],
   "source": [
    "x, *y, z = (1,2,3,4)\n",
    "print(x)\n",
    "print(y)\n",
    "print(z)"
   ]
  },
  {
   "cell_type": "markdown",
   "metadata": {},
   "source": [
    "#### Fibonacci otimizado"
   ]
  },
  {
   "cell_type": "code",
   "execution_count": 13,
   "metadata": {},
   "outputs": [
    {
     "name": "stdout",
     "output_type": "stream",
     "text": [
      "1\n",
      "2\n",
      "3\n",
      "5\n",
      "8\n",
      "13\n",
      "21\n",
      "34\n",
      "55\n",
      "89\n",
      "144\n",
      "233\n",
      "377\n",
      "610\n",
      "987\n"
     ]
    }
   ],
   "source": [
    "x,y = 1,1\n",
    "while y < 1000:\n",
    "    x,y = y,x+y\n",
    "    print(x)"
   ]
  },
  {
   "cell_type": "markdown",
   "metadata": {},
   "source": [
    "### Funções:"
   ]
  },
  {
   "cell_type": "code",
   "execution_count": 57,
   "metadata": {
    "collapsed": true
   },
   "outputs": [],
   "source": [
    "def faz_nada():\n",
    "    print('não fiz nada')"
   ]
  },
  {
   "cell_type": "code",
   "execution_count": 59,
   "metadata": {},
   "outputs": [
    {
     "name": "stdout",
     "output_type": "stream",
     "text": [
      "não fiz nada\n"
     ]
    }
   ],
   "source": [
    "x = faz_nada()"
   ]
  },
  {
   "cell_type": "code",
   "execution_count": 46,
   "metadata": {
    "collapsed": true
   },
   "outputs": [],
   "source": [
    "def soma(x,y):\n",
    "    return x"
   ]
  },
  {
   "cell_type": "code",
   "execution_count": 84,
   "metadata": {},
   "outputs": [
    {
     "name": "stdout",
     "output_type": "stream",
     "text": [
      "2\n"
     ]
    }
   ],
   "source": [
    "x = soma(2,5)\n",
    "print(x)"
   ]
  },
  {
   "cell_type": "code",
   "execution_count": null,
   "metadata": {
    "collapsed": true
   },
   "outputs": [],
   "source": [
    "def soma2(*args):\n",
    "    print(args)\n",
    "    print('a soma é {}'.format(sum(args)))\n",
    "    return sum(args)"
   ]
  },
  {
   "cell_type": "code",
   "execution_count": 86,
   "metadata": {},
   "outputs": [
    {
     "name": "stdout",
     "output_type": "stream",
     "text": [
      "(23, 45, 18)\n",
      "a soma é 86\n"
     ]
    }
   ],
   "source": [
    "y = soma2(23, 45, 18)\n",
    "#print(y)"
   ]
  },
  {
   "cell_type": "code",
   "execution_count": 39,
   "metadata": {
    "collapsed": true
   },
   "outputs": [],
   "source": [
    "def ordem(x,y,z):\n",
    "    if x >= y and x >= z:\n",
    "        print('o maior é {}'.format(x))\n",
    "        if y >= z:\n",
    "            print('o do meio é {}'.format(y))\n",
    "            print('o menor é {}'.format(z))\n",
    "        else:\n",
    "            print('o do meio é {}'.format(z))\n",
    "            print('o menor é {}'.format(y))\n",
    "    elif y >= x and y >= z:\n",
    "        print('o maior é {}'.format(y))\n",
    "        if x >= z:\n",
    "            print('o do meio é {}'.format(x))\n",
    "            print('o menor é {}'.format(z))\n",
    "        else:\n",
    "            print('o do meio é {}'.format(z))\n",
    "            print('o menor é {}'.format(x))\n",
    "    else:\n",
    "        print('o maior é {}'.format(z))\n",
    "        if x >= y:\n",
    "            print('o do meio é {}'.format(x))\n",
    "            print('o menor é {}'.format(y))\n",
    "        else:\n",
    "            print('o do meio é {}'.format(y))\n",
    "            print('o menor é {}'.format(x))"
   ]
  },
  {
   "cell_type": "code",
   "execution_count": 40,
   "metadata": {},
   "outputs": [
    {
     "name": "stdout",
     "output_type": "stream",
     "text": [
      "o maior é 98\n",
      "o do meio é 56\n",
      "o menor é 21\n"
     ]
    }
   ],
   "source": [
    "ordem(56,21,98)"
   ]
  },
  {
   "cell_type": "code",
   "execution_count": 11,
   "metadata": {
    "collapsed": true
   },
   "outputs": [],
   "source": [
    "def ordem2(x,y,z):\n",
    "    l = [x,y,z]\n",
    "    l.sort()\n",
    "    anuncia('maior',l[2])\n",
    "    anuncia('do meio',l[1])\n",
    "    anuncia('menor',l[0])"
   ]
  },
  {
   "cell_type": "code",
   "execution_count": 9,
   "metadata": {},
   "outputs": [
    {
     "name": "stdout",
     "output_type": "stream",
     "text": [
      "O maior é 98\n",
      "O do meio é 56\n",
      "O menor é 56\n"
     ]
    }
   ],
   "source": [
    "ordem2(56,56,98)"
   ]
  },
  {
   "cell_type": "code",
   "execution_count": 10,
   "metadata": {
    "collapsed": true
   },
   "outputs": [],
   "source": [
    "def anuncia(status,numero):\n",
    "    print('O {} é {}'.format(status, numero))"
   ]
  },
  {
   "cell_type": "code",
   "execution_count": 93,
   "metadata": {
    "collapsed": true
   },
   "outputs": [],
   "source": [
    "#Cuidado com valores altos na função abaixo\n",
    "import time\n",
    "def fibo_recursivo(n):\n",
    "    if n <= 0:\n",
    "        print('número inválido')\n",
    "        return\n",
    "    if n == 1:\n",
    "        return 0\n",
    "    elif n == 2:\n",
    "        return 1\n",
    "    else:\n",
    "        #print(fibo_recursivo(n-1) + fibo_recursivo(n-2))\n",
    "        return fibo_recursivo(n-1) + fibo_recursivo(n-2)"
   ]
  },
  {
   "cell_type": "code",
   "execution_count": 98,
   "metadata": {},
   "outputs": [
    {
     "name": "stdout",
     "output_type": "stream",
     "text": [
      "47.0473997592926\n"
     ]
    }
   ],
   "source": [
    "t0 = time.time()\n",
    "fibo_recursivo(40)\n",
    "print(time.time() - t0)"
   ]
  },
  {
   "cell_type": "code",
   "execution_count": 1,
   "metadata": {
    "collapsed": true
   },
   "outputs": [],
   "source": [
    "def raiz(n,raiz=2):\n",
    "    return n ** (1./raiz)"
   ]
  },
  {
   "cell_type": "code",
   "execution_count": 5,
   "metadata": {},
   "outputs": [
    {
     "data": {
      "text/plain": [
       "3.0"
      ]
     },
     "execution_count": 5,
     "metadata": {},
     "output_type": "execute_result"
    }
   ],
   "source": [
    "raiz(27,3)"
   ]
  },
  {
   "cell_type": "code",
   "execution_count": 6,
   "metadata": {},
   "outputs": [
    {
     "data": {
      "text/plain": [
       "3.9999999999999996"
      ]
     },
     "execution_count": 6,
     "metadata": {},
     "output_type": "execute_result"
    }
   ],
   "source": [
    "raiz(64,3)"
   ]
  },
  {
   "cell_type": "code",
   "execution_count": 7,
   "metadata": {
    "collapsed": true
   },
   "outputs": [],
   "source": [
    "import math"
   ]
  },
  {
   "cell_type": "code",
   "execution_count": 8,
   "metadata": {
    "collapsed": true
   },
   "outputs": [],
   "source": [
    "def raiz2(n,raiz=2):\n",
    "    return math.pow(n,(1./raiz))"
   ]
  },
  {
   "cell_type": "code",
   "execution_count": 9,
   "metadata": {},
   "outputs": [
    {
     "data": {
      "text/plain": [
       "3.9999999999999996"
      ]
     },
     "execution_count": 9,
     "metadata": {},
     "output_type": "execute_result"
    }
   ],
   "source": [
    "raiz2(64,3)"
   ]
  },
  {
   "cell_type": "code",
   "execution_count": 21,
   "metadata": {
    "collapsed": true
   },
   "outputs": [],
   "source": [
    "def qualquer(primeiro=10,segundo=11):\n",
    "    return segundo + primeiro"
   ]
  },
  {
   "cell_type": "code",
   "execution_count": 22,
   "metadata": {},
   "outputs": [
    {
     "name": "stdout",
     "output_type": "stream",
     "text": [
      "21\n"
     ]
    }
   ],
   "source": [
    "x = qualquer()\n",
    "print(x)"
   ]
  },
  {
   "cell_type": "code",
   "execution_count": 27,
   "metadata": {},
   "outputs": [
    {
     "name": "stdout",
     "output_type": "stream",
     "text": [
      "22\n"
     ]
    }
   ],
   "source": [
    "x = qualquer(11)\n",
    "print(x)"
   ]
  },
  {
   "cell_type": "code",
   "execution_count": 28,
   "metadata": {},
   "outputs": [
    {
     "data": {
      "text/plain": [
       "13"
      ]
     },
     "execution_count": 28,
     "metadata": {},
     "output_type": "execute_result"
    }
   ],
   "source": [
    "qualquer(2) # primeiro = 2 e segundo = 11"
   ]
  },
  {
   "cell_type": "code",
   "execution_count": 29,
   "metadata": {},
   "outputs": [
    {
     "data": {
      "text/plain": [
       "12"
      ]
     },
     "execution_count": 29,
     "metadata": {},
     "output_type": "execute_result"
    }
   ],
   "source": [
    "qualquer(segundo=2) #primeiro = 10 e segundo = 2"
   ]
  },
  {
   "cell_type": "code",
   "execution_count": 30,
   "metadata": {
    "collapsed": true
   },
   "outputs": [],
   "source": [
    "def indefinido(*args):\n",
    "    for arg in args:\n",
    "        print(arg)"
   ]
  },
  {
   "cell_type": "code",
   "execution_count": 34,
   "metadata": {},
   "outputs": [
    {
     "name": "stdout",
     "output_type": "stream",
     "text": [
      "5\n",
      "1\n",
      "2\n",
      "string\n"
     ]
    }
   ],
   "source": [
    "indefinido(5,1,2,'string')"
   ]
  },
  {
   "cell_type": "code",
   "execution_count": 42,
   "metadata": {
    "collapsed": true
   },
   "outputs": [],
   "source": [
    "def indefinido2(*args,**kwargs):\n",
    "    for arg in args:\n",
    "        print(arg)\n",
    "    print()\n",
    "    print('aqui separamos os prints')\n",
    "    print()\n",
    "    print(kwargs)\n",
    "    #print(kwargs.keys())"
   ]
  },
  {
   "cell_type": "code",
   "execution_count": 43,
   "metadata": {},
   "outputs": [
    {
     "name": "stdout",
     "output_type": "stream",
     "text": [
      "2\n",
      "3\n",
      "\n",
      "aqui separamos os prints\n",
      "\n",
      "{'nome': 'Renato', 'inst': 'FGV'}\n"
     ]
    }
   ],
   "source": [
    "indefinido2(2,3,nome='Renato',inst='FGV')"
   ]
  },
  {
   "cell_type": "code",
   "execution_count": 44,
   "metadata": {},
   "outputs": [
    {
     "name": "stdout",
     "output_type": "stream",
     "text": [
      "\n",
      "aqui separamos os prints\n",
      "\n",
      "{'mensagem': 'Hello World'}\n"
     ]
    }
   ],
   "source": [
    "indefinido2(mensagem = 'Hello World')"
   ]
  },
  {
   "cell_type": "code",
   "execution_count": 45,
   "metadata": {
    "collapsed": true
   },
   "outputs": [],
   "source": [
    "def recebe_notas(**kwargs):\n",
    "    for chave, valor in kwargs.items():\n",
    "        print('A chave é {} e o valor é {}'.format(chave,valor))\n",
    "    if 'Matematica' in kwargs:\n",
    "        print('A nota de Matemática é {}'.format(kwargs['Matematica']))\n",
    "    else:\n",
    "        print('Não foi passada a nota de Matemática')"
   ]
  },
  {
   "cell_type": "code",
   "execution_count": 47,
   "metadata": {},
   "outputs": [
    {
     "name": "stdout",
     "output_type": "stream",
     "text": [
      "A chave é História e o valor é 6\n",
      "A chave é Portugues e o valor é 8\n",
      "A chave é Física e o valor é 9\n",
      "Não foi passada a nota de Matemática\n"
     ]
    }
   ],
   "source": [
    "recebe_notas(Física=9,Portugues=8, História=6)"
   ]
  },
  {
   "cell_type": "code",
   "execution_count": 48,
   "metadata": {},
   "outputs": [
    {
     "name": "stdout",
     "output_type": "stream",
     "text": [
      "A chave é Historia e o valor é 8\n",
      "Não foi passada a nota de Matemática\n"
     ]
    }
   ],
   "source": [
    "recebe_notas(Historia=8)"
   ]
  },
  {
   "cell_type": "code",
   "execution_count": 49,
   "metadata": {},
   "outputs": [
    {
     "name": "stdout",
     "output_type": "stream",
     "text": [
      "Entre com seu nome: Renato\n"
     ]
    }
   ],
   "source": [
    "nome = input('Entre com seu nome: ')"
   ]
  },
  {
   "cell_type": "code",
   "execution_count": 50,
   "metadata": {},
   "outputs": [
    {
     "data": {
      "text/plain": [
       "'Renato'"
      ]
     },
     "execution_count": 50,
     "metadata": {},
     "output_type": "execute_result"
    }
   ],
   "source": [
    "nome"
   ]
  },
  {
   "cell_type": "code",
   "execution_count": 51,
   "metadata": {
    "collapsed": true
   },
   "outputs": [],
   "source": [
    "def cordial():\n",
    "    nome = input('Qual o seu nome? ')\n",
    "    print('Como você vai hoje, {} ?'.format(nome))"
   ]
  },
  {
   "cell_type": "code",
   "execution_count": 52,
   "metadata": {},
   "outputs": [
    {
     "name": "stdout",
     "output_type": "stream",
     "text": [
      "Qual o seu nome? Renato\n",
      "Como você vai hoje, Renato ?\n"
     ]
    }
   ],
   "source": [
    "cordial()"
   ]
  },
  {
   "cell_type": "code",
   "execution_count": 65,
   "metadata": {
    "collapsed": true
   },
   "outputs": [],
   "source": [
    "def imc(massa=0, altura=0):\n",
    "    if massa == 0:\n",
    "        massa = input('Qual o seu peso? ')\n",
    "    if not str(massa).isdigit():\n",
    "        print('Valor Invalido')\n",
    "        imc()\n",
    "        return\n",
    "    if altura == 0:\n",
    "        altura = input('Qual a sua altura? ')\n",
    "    if not str(altura).isdigit():\n",
    "        print('Valor Invalido')\n",
    "        imc(massa=massa)\n",
    "        return\n",
    "    print('Seu IMC é {}'.format((float(massa)/(float(altura)/100)**2)))"
   ]
  },
  {
   "cell_type": "code",
   "execution_count": 67,
   "metadata": {},
   "outputs": [
    {
     "name": "stdout",
     "output_type": "stream",
     "text": [
      "Qual o seu peso? 73\n",
      "Qual a sua altura? 183\n",
      "Seu IMC é 21.798202394816204\n"
     ]
    }
   ],
   "source": [
    "x = imc()"
   ]
  },
  {
   "cell_type": "code",
   "execution_count": 68,
   "metadata": {
    "collapsed": true
   },
   "outputs": [],
   "source": [
    "def recebe_altura(x):\n",
    "    x = str(x)\n",
    "    print(x)\n",
    "    x = x.replace(',','.')\n",
    "    print(x)"
   ]
  },
  {
   "cell_type": "code",
   "execution_count": 69,
   "metadata": {},
   "outputs": [
    {
     "name": "stdout",
     "output_type": "stream",
     "text": [
      "1.87\n",
      "1.87\n"
     ]
    }
   ],
   "source": [
    "recebe_altura(1.87)"
   ]
  },
  {
   "cell_type": "code",
   "execution_count": null,
   "metadata": {
    "collapsed": true
   },
   "outputs": [],
   "source": [
    "def acha_posicoes(texto,letra):\n",
    "    posicoes=[]\n",
    "    atual = 0\n",
    "    while not texto.find(letra) == -1:\n",
    "        posicao = atual + texto.find(letra)\n",
    "        acressimo_posicao = texto.find(letra)\n",
    "        posicoes.append(posicao)\n",
    "        atual += acrecsimo_posicao + 1\n",
    "        texto = texto[acressimo_posicao+1:]\n",
    "    print(posicoes)"
   ]
  },
  {
   "cell_type": "markdown",
   "metadata": {},
   "source": [
    "### Agora vamos resolver alguns problemas:"
   ]
  },
  {
   "cell_type": "markdown",
   "metadata": {},
   "source": [
    "#### Resolvendo o problema 3 do Project Euler:  \n",
    "https://projecteuler.net/problem=3  \n",
    "\n",
    "The prime factors of 13195 are 5, 7, 13 and 29.  \n",
    "What is the largest prime factor of the number 600851475143 ?"
   ]
  },
  {
   "cell_type": "code",
   "execution_count": null,
   "metadata": {
    "collapsed": true
   },
   "outputs": [],
   "source": [
    "def maior_fator_primo(n):\n",
    "    #gerando primos até n/2\n",
    "    seq = range(3,int(n/2.)+1)\n",
    "    primos = [2]\n",
    "    for candidato in seq:\n",
    "        E_primo = True\n",
    "        for primo in primos:\n",
    "            if candidato%primo == 0:\n",
    "                E_primo = False\n",
    "        if E_primo:\n",
    "            primos.append(candidato)\n",
    "    fatores = []\n",
    "    for primo in primos:\n",
    "        if n%primo == 0:\n",
    "            fatores.append(primo)\n",
    "    print(fatores)\n",
    "    return fatores"
   ]
  },
  {
   "cell_type": "code",
   "execution_count": null,
   "metadata": {
    "collapsed": true
   },
   "outputs": [],
   "source": [
    "maior_fator_primo(13195)"
   ]
  },
  {
   "cell_type": "code",
   "execution_count": null,
   "metadata": {
    "collapsed": true
   },
   "outputs": [],
   "source": [
    "def maior_fator_primo2(n):\n",
    "    primos = [2]\n",
    "    candidato_a_primo = 3\n",
    "    fatores = []\n",
    "    while candidato_a_primo < (int(n/2.)+1):\n",
    "        E_primo = True\n",
    "        for primo in primos:\n",
    "            if candidato_a_primo%primo == 0:\n",
    "                E_primo = False\n",
    "        if E_primo:\n",
    "            primos.append(candidato_a_primo)\n",
    "            if n%candidato_a_primo == 0:\n",
    "                fatores.append(candidato_a_primo)\n",
    "        candidato_a_primo +=1\n",
    "    print(fatores)\n",
    "    return fatores"
   ]
  },
  {
   "cell_type": "code",
   "execution_count": null,
   "metadata": {
    "collapsed": true
   },
   "outputs": [],
   "source": [
    "maior_fator_primo2(13195)"
   ]
  },
  {
   "cell_type": "code",
   "execution_count": null,
   "metadata": {
    "collapsed": true
   },
   "outputs": [],
   "source": [
    "def is_prime(n):\n",
    "    if n <= 3:\n",
    "        return n >= 2\n",
    "    if n % 2 == 0 or n % 3 == 0:\n",
    "        return False\n",
    "    for i in range(5, int(n ** 0.5) + 1, 6):\n",
    "        if n % i == 0 or n % (i + 2) == 0:\n",
    "            return False\n",
    "    return True"
   ]
  },
  {
   "cell_type": "code",
   "execution_count": null,
   "metadata": {
    "collapsed": true
   },
   "outputs": [],
   "source": [
    "def maior_fator_primo3(n):\n",
    "    fatores = []\n",
    "    candidato_a_fator = 2\n",
    "    while candidato_a_fator < (int(n/2.)+1):\n",
    "            if is_prime(candidato_a_fator) and n%candidato_a_fator == 0:\n",
    "                fatores.append(candidato_a_fator)\n",
    "            candidato_a_fator +=1\n",
    "    print(fatores)\n",
    "    return fatores"
   ]
  },
  {
   "cell_type": "markdown",
   "metadata": {},
   "source": [
    "#### Resolvendo o problema 4 do Project Euler:  \n",
    "https://projecteuler.net/problem=4  \n",
    "\n",
    "\"A palindromic number reads the same both ways. The largest palindrome made from the product of two 2-digit numbers is 9009 = 91 × 99.  \n",
    "Find the largest palindrome made from the product of two 3-digit numbers.\""
   ]
  },
  {
   "cell_type": "markdown",
   "metadata": {},
   "source": [
    "###### Como inverter uma string?\n",
    "Antes vamos entender como inverter uma string"
   ]
  },
  {
   "cell_type": "code",
   "execution_count": 4,
   "metadata": {},
   "outputs": [
    {
     "data": {
      "text/plain": [
       "'Uma str'"
      ]
     },
     "execution_count": 4,
     "metadata": {},
     "output_type": "execute_result"
    }
   ],
   "source": [
    "'Uma string comum'[0:7]"
   ]
  },
  {
   "cell_type": "code",
   "execution_count": 5,
   "metadata": {},
   "outputs": [
    {
     "data": {
      "text/plain": [
       "'mumoc gnirts amU'"
      ]
     },
     "execution_count": 5,
     "metadata": {},
     "output_type": "execute_result"
    }
   ],
   "source": [
    "'Uma string comum'[-1::-1]"
   ]
  },
  {
   "cell_type": "code",
   "execution_count": 3,
   "metadata": {
    "collapsed": true
   },
   "outputs": [],
   "source": [
    "#Gerando a lista de produtos:\n",
    "produtos = set([])\n",
    "for i in range(100,1000):\n",
    "    for j in range(100,1000):\n",
    "        produtos.add(i*j)"
   ]
  },
  {
   "cell_type": "code",
   "execution_count": 6,
   "metadata": {},
   "outputs": [
    {
     "name": "stdout",
     "output_type": "stream",
     "text": [
      "906609\n"
     ]
    }
   ],
   "source": [
    "#Testando se são palíndromos\n",
    "maior_palindromo = 0\n",
    "for numero in produtos:\n",
    "    string_numero = str(numero)\n",
    "    if string_numero == string_numero[-1::-1] and int(string_numero) > maior_palindromo:\n",
    "        maior_palindromo = int(string_numero)\n",
    "print(maior_palindromo)"
   ]
  },
  {
   "cell_type": "markdown",
   "metadata": {},
   "source": [
    "#### Resolvendo o problema 14 do Project Euler:  \n",
    "https://projecteuler.net/problem=14\n",
    "\n",
    "The following iterative sequence is defined for the set of positive integers:\n",
    "\n",
    "n → n/2 (n is even)  \n",
    "n → 3n + 1 (n is odd)\n",
    "\n",
    "Using the rule above and starting with 13, we generate the following sequence:  \n",
    "13 → 40 → 20 → 10 → 5 → 16 → 8 → 4 → 2 → 1\n",
    "\n",
    "It can be seen that this sequence (starting at 13 and finishing at 1) contains 10 terms. Although it has not been proved yet (Collatz Problem), it is thought that all starting numbers finish at 1.\n",
    "\n",
    "Which starting number, under one million, produces the longest chain?\n",
    "\n",
    "NOTE: Once the chain starts the terms are allowed to go above one million.\n"
   ]
  },
  {
   "cell_type": "code",
   "execution_count": 2,
   "metadata": {
    "collapsed": true
   },
   "outputs": [],
   "source": [
    "def collatz(num):\n",
    "    if num%2 == 0:\n",
    "        return int(num/2)\n",
    "    else:\n",
    "        return int((3*num)+1)"
   ]
  },
  {
   "cell_type": "code",
   "execution_count": 5,
   "metadata": {},
   "outputs": [
    {
     "ename": "KeyboardInterrupt",
     "evalue": "",
     "output_type": "error",
     "traceback": [
      "\u001b[0;31m---------------------------------------------------------------------------\u001b[0m",
      "\u001b[0;31mKeyboardInterrupt\u001b[0m                         Traceback (most recent call last)",
      "\u001b[0;32m<ipython-input-5-a95129f98338>\u001b[0m in \u001b[0;36m<module>\u001b[0;34m()\u001b[0m\n\u001b[1;32m     10\u001b[0m     \u001b[0mproximo\u001b[0m \u001b[0;34m=\u001b[0m \u001b[0mnumero\u001b[0m\u001b[0;34m\u001b[0m\u001b[0m\n\u001b[1;32m     11\u001b[0m     \u001b[0;32mwhile\u001b[0m \u001b[0mproximo\u001b[0m \u001b[0;34m!=\u001b[0m \u001b[0;36m1\u001b[0m\u001b[0;34m:\u001b[0m\u001b[0;34m\u001b[0m\u001b[0m\n\u001b[0;32m---> 12\u001b[0;31m         \u001b[0mproximo\u001b[0m \u001b[0;34m=\u001b[0m \u001b[0mcollatz\u001b[0m\u001b[0;34m(\u001b[0m\u001b[0mproximo\u001b[0m\u001b[0;34m)\u001b[0m\u001b[0;34m\u001b[0m\u001b[0m\n\u001b[0m\u001b[1;32m     13\u001b[0m         \u001b[0mseq\u001b[0m\u001b[0;34m.\u001b[0m\u001b[0mappend\u001b[0m\u001b[0;34m(\u001b[0m\u001b[0mproximo\u001b[0m\u001b[0;34m)\u001b[0m\u001b[0;34m\u001b[0m\u001b[0m\n\u001b[1;32m     14\u001b[0m     \u001b[0;31m#print(seq)\u001b[0m\u001b[0;34m\u001b[0m\u001b[0;34m\u001b[0m\u001b[0m\n",
      "\u001b[0;32m<ipython-input-5-a95129f98338>\u001b[0m in \u001b[0;36mcollatz\u001b[0;34m(num)\u001b[0m\n\u001b[1;32m      1\u001b[0m \u001b[0;32mdef\u001b[0m \u001b[0mcollatz\u001b[0m\u001b[0;34m(\u001b[0m\u001b[0mnum\u001b[0m\u001b[0;34m)\u001b[0m\u001b[0;34m:\u001b[0m\u001b[0;34m\u001b[0m\u001b[0m\n\u001b[1;32m      2\u001b[0m     \u001b[0;32mif\u001b[0m \u001b[0mnum\u001b[0m\u001b[0;34m%\u001b[0m\u001b[0;36m2\u001b[0m \u001b[0;34m==\u001b[0m \u001b[0;36m0\u001b[0m\u001b[0;34m:\u001b[0m\u001b[0;34m\u001b[0m\u001b[0m\n\u001b[0;32m----> 3\u001b[0;31m         \u001b[0;32mreturn\u001b[0m \u001b[0mint\u001b[0m\u001b[0;34m(\u001b[0m\u001b[0mnum\u001b[0m\u001b[0;34m/\u001b[0m\u001b[0;36m2\u001b[0m\u001b[0;34m)\u001b[0m\u001b[0;34m\u001b[0m\u001b[0m\n\u001b[0m\u001b[1;32m      4\u001b[0m     \u001b[0;32melse\u001b[0m\u001b[0;34m:\u001b[0m\u001b[0;34m\u001b[0m\u001b[0m\n\u001b[1;32m      5\u001b[0m         \u001b[0;32mreturn\u001b[0m \u001b[0mint\u001b[0m\u001b[0;34m(\u001b[0m\u001b[0;34m(\u001b[0m\u001b[0;36m3\u001b[0m\u001b[0;34m*\u001b[0m\u001b[0mnum\u001b[0m\u001b[0;34m)\u001b[0m\u001b[0;34m+\u001b[0m\u001b[0;36m1\u001b[0m\u001b[0;34m)\u001b[0m\u001b[0;34m\u001b[0m\u001b[0m\n",
      "\u001b[0;31mKeyboardInterrupt\u001b[0m: "
     ]
    }
   ],
   "source": [
    "def collatz(num):\n",
    "    if num%2 == 0:\n",
    "        return int(num/2)\n",
    "    else:\n",
    "        return int((3*num)+1)\n",
    "n = 1000000\n",
    "tamseqmax = 1\n",
    "for numero in range(2,n+1):\n",
    "    seq = [numero]\n",
    "    proximo = numero\n",
    "    while proximo != 1:\n",
    "        proximo = collatz(proximo)\n",
    "        seq.append(proximo)\n",
    "    #print(seq)\n",
    "    if len(seq) > tamseqmax:\n",
    "        tamseqmax = len(seq)\n",
    "        seqmax = seq\n",
    "        nmax = n\n",
    "print('a sequencia para {} é {}'.format(nmax,seqmax))"
   ]
  },
  {
   "cell_type": "code",
   "execution_count": null,
   "metadata": {
    "collapsed": true
   },
   "outputs": [],
   "source": []
  }
 ],
 "metadata": {
  "kernelspec": {
   "display_name": "Python 3",
   "language": "python",
   "name": "python3"
  },
  "language_info": {
   "codemirror_mode": {
    "name": "ipython",
    "version": 3
   },
   "file_extension": ".py",
   "mimetype": "text/x-python",
   "name": "python",
   "nbconvert_exporter": "python",
   "pygments_lexer": "ipython3",
   "version": "3.5.2+"
  }
 },
 "nbformat": 4,
 "nbformat_minor": 1
}
