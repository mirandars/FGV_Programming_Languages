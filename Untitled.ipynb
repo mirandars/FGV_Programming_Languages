{
 "cells": [
  {
   "cell_type": "code",
   "execution_count": 12,
   "metadata": {},
   "outputs": [
    {
     "name": "stdout",
     "output_type": "stream",
     "text": [
      "[0, 35, 70]\n"
     ]
    }
   ],
   "source": [
    "lista= []\n",
    "seq= range(101)\n",
    "for num in seq:\n",
    "    if num%7 == 0 and num%5 == 0:\n",
    "        lista.append(num)\n",
    "print(lista)\n",
    "    "
   ]
  },
  {
   "cell_type": "code",
   "execution_count": 25,
   "metadata": {
    "collapsed": true
   },
   "outputs": [],
   "source": [
    "import time\n",
    "import random"
   ]
  },
  {
   "cell_type": "code",
   "execution_count": 1,
   "metadata": {},
   "outputs": [
    {
     "data": {
      "text/plain": [
       "range(2, 100, 2)"
      ]
     },
     "execution_count": 1,
     "metadata": {},
     "output_type": "execute_result"
    }
   ],
   "source": [
    "range(2,100,2)\n"
   ]
  },
  {
   "cell_type": "code",
   "execution_count": 30,
   "metadata": {},
   "outputs": [
    {
     "name": "stdout",
     "output_type": "stream",
     "text": [
      "0.0010762214660644531\n"
     ]
    }
   ],
   "source": [
    "t0 = time.time()\n",
    "\n",
    "lista=[]\n",
    "for i in range(2, 100):\n",
    "    k = True\n",
    "    for j in range(2, i):\n",
    "        if i%j == 0:\n",
    "            k= False\n",
    "    if k:\n",
    "        lista.append(i)\n",
    "#print(lista)\n",
    "\n",
    "print(time.time() - t0)"
   ]
  },
  {
   "cell_type": "code",
   "execution_count": 81,
   "metadata": {},
   "outputs": [
    {
     "name": "stdout",
     "output_type": "stream",
     "text": [
      "<class 'list'>\n",
      "foram sorteados os números {1, 38, 39, 43, 23, 56}\n",
      "acertei os numeros {1, 38, 39, 43, 23, 56}\n",
      "51999\n",
      "30.123698234558105\n"
     ]
    }
   ],
   "source": [
    "\n",
    "aposta = {23,43,1,39,38,24,50,56}\n",
    "t0 = time.time()\n",
    "#for i in range(2*52*500):\n",
    "acertos = [0]\n",
    "while len(acertos) <= 5:\n",
    "    sorteados = set()\n",
    "    while len(sorteados) < 6:\n",
    "        numero = random.randrange(1,61) #random.randint(1,60)\n",
    "        #print(numero)\n",
    "        sorteados.add(numero)\n",
    "    acertos = sorteados.intersection(aposta)\n",
    "    if len(acertos) > 5:\n",
    "        print('foram sorteados os números {}'.format(sorteados))\n",
    "        print('acertei os numeros {}'.format(acertos))\n",
    "        print(i)    \n",
    "print(time.time() - t0)\n"
   ]
  },
  {
   "cell_type": "code",
   "execution_count": null,
   "metadata": {
    "collapsed": true
   },
   "outputs": [],
   "source": []
  }
 ],
 "metadata": {
  "kernelspec": {
   "display_name": "Python 3",
   "language": "python",
   "name": "python3"
  },
  "language_info": {
   "codemirror_mode": {
    "name": "ipython",
    "version": 3
   },
   "file_extension": ".py",
   "mimetype": "text/x-python",
   "name": "python",
   "nbconvert_exporter": "python",
   "pygments_lexer": "ipython3",
   "version": "3.5.2+"
  }
 },
 "nbformat": 4,
 "nbformat_minor": 2
}
